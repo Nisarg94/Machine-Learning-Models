{
 "cells": [
  {
   "cell_type": "markdown",
   "metadata": {
    "_uuid": "a44db9be7ef883e7c95c85b919b1cd3048139824"
   },
   "source": [
    "Nisarg Patel  \n",
    "CSC 578- NN and Deep Learning"
   ]
  },
  {
   "cell_type": "markdown",
   "metadata": {
    "_uuid": "659cfc77618950a0517c40946c65191704be7257"
   },
   "source": [
    "Problem Statement : The task of the competition is to predict the temperature at the next hour given the weather conditions and temperature for prior hours.  This is a multivariate timeseries forecasting problem, and we use a neural network approach to tackle the problem."
   ]
  },
  {
   "cell_type": "code",
   "execution_count": 18,
   "metadata": {
    "_cell_guid": "b1076dfc-b9ad-4769-8c92-a6c4dae69d19",
    "_uuid": "8f2839f25d086af736a60e9eeb907d3b93b6e0e5"
   },
   "outputs": [],
   "source": [
    "import numpy as np \n",
    "import pandas as pd\n",
    "import os\n",
    "import tensorflow as tf\n",
    "from matplotlib import pyplot\n",
    "import matplotlib.pyplot as plt\n",
    "%matplotlib inline\n",
    "import keras\n",
    "keras.__version__\n",
    "pd.set_option('display.max_rows',50)\n",
    "\n",
    "from sklearn.preprocessing import MinMaxScaler"
   ]
  },
  {
   "cell_type": "code",
   "execution_count": 2,
   "metadata": {
    "_uuid": "f7d4c98cb831956be72d655f72cac2b39313a614",
    "collapsed": true
   },
   "outputs": [],
   "source": [
    "dataset = pd.read_csv(\"C:/Users/nisar/OneDrive/Desktop/Depaul/CSC-578_NN_and_DeepLearning/Final Project/climate_hour.csv\")"
   ]
  },
  {
   "cell_type": "code",
   "execution_count": 3,
   "metadata": {
    "_uuid": "45a12453c252591f2387dca2a7faf54e80332766",
    "scrolled": true
   },
   "outputs": [
    {
     "data": {
      "text/html": [
       "<div>\n",
       "<style scoped>\n",
       "    .dataframe tbody tr th:only-of-type {\n",
       "        vertical-align: middle;\n",
       "    }\n",
       "\n",
       "    .dataframe tbody tr th {\n",
       "        vertical-align: top;\n",
       "    }\n",
       "\n",
       "    .dataframe thead th {\n",
       "        text-align: right;\n",
       "    }\n",
       "</style>\n",
       "<table border=\"1\" class=\"dataframe\">\n",
       "  <thead>\n",
       "    <tr style=\"text-align: right;\">\n",
       "      <th></th>\n",
       "      <th>Date Time</th>\n",
       "      <th>p (mbar)</th>\n",
       "      <th>T (degC)</th>\n",
       "      <th>Tpot (K)</th>\n",
       "      <th>Tdew (degC)</th>\n",
       "      <th>rh (%)</th>\n",
       "      <th>VPmax (mbar)</th>\n",
       "      <th>VPact (mbar)</th>\n",
       "      <th>VPdef (mbar)</th>\n",
       "      <th>sh (g/kg)</th>\n",
       "      <th>H2OC (mmol/mol)</th>\n",
       "      <th>rho (g/m**3)</th>\n",
       "      <th>wv (m/s)</th>\n",
       "      <th>max. wv (m/s)</th>\n",
       "      <th>wd (deg)</th>\n",
       "    </tr>\n",
       "  </thead>\n",
       "  <tbody>\n",
       "    <tr>\n",
       "      <th>0</th>\n",
       "      <td>01.01.2009 01:00:00</td>\n",
       "      <td>996.50</td>\n",
       "      <td>-8.05</td>\n",
       "      <td>265.38</td>\n",
       "      <td>-8.78</td>\n",
       "      <td>94.4</td>\n",
       "      <td>3.33</td>\n",
       "      <td>3.14</td>\n",
       "      <td>0.19</td>\n",
       "      <td>1.96</td>\n",
       "      <td>3.15</td>\n",
       "      <td>1307.86</td>\n",
       "      <td>0.21</td>\n",
       "      <td>0.63</td>\n",
       "      <td>192.7</td>\n",
       "    </tr>\n",
       "    <tr>\n",
       "      <th>1</th>\n",
       "      <td>01.01.2009 02:00:00</td>\n",
       "      <td>996.62</td>\n",
       "      <td>-8.88</td>\n",
       "      <td>264.54</td>\n",
       "      <td>-9.77</td>\n",
       "      <td>93.2</td>\n",
       "      <td>3.12</td>\n",
       "      <td>2.90</td>\n",
       "      <td>0.21</td>\n",
       "      <td>1.81</td>\n",
       "      <td>2.91</td>\n",
       "      <td>1312.25</td>\n",
       "      <td>0.25</td>\n",
       "      <td>0.63</td>\n",
       "      <td>190.3</td>\n",
       "    </tr>\n",
       "    <tr>\n",
       "      <th>2</th>\n",
       "      <td>01.01.2009 03:00:00</td>\n",
       "      <td>996.84</td>\n",
       "      <td>-8.81</td>\n",
       "      <td>264.59</td>\n",
       "      <td>-9.66</td>\n",
       "      <td>93.5</td>\n",
       "      <td>3.13</td>\n",
       "      <td>2.93</td>\n",
       "      <td>0.20</td>\n",
       "      <td>1.83</td>\n",
       "      <td>2.94</td>\n",
       "      <td>1312.18</td>\n",
       "      <td>0.18</td>\n",
       "      <td>0.63</td>\n",
       "      <td>167.2</td>\n",
       "    </tr>\n",
       "    <tr>\n",
       "      <th>3</th>\n",
       "      <td>01.01.2009 04:00:00</td>\n",
       "      <td>996.99</td>\n",
       "      <td>-9.05</td>\n",
       "      <td>264.34</td>\n",
       "      <td>-10.02</td>\n",
       "      <td>92.6</td>\n",
       "      <td>3.07</td>\n",
       "      <td>2.85</td>\n",
       "      <td>0.23</td>\n",
       "      <td>1.78</td>\n",
       "      <td>2.85</td>\n",
       "      <td>1313.61</td>\n",
       "      <td>0.10</td>\n",
       "      <td>0.38</td>\n",
       "      <td>240.0</td>\n",
       "    </tr>\n",
       "    <tr>\n",
       "      <th>4</th>\n",
       "      <td>01.01.2009 05:00:00</td>\n",
       "      <td>997.46</td>\n",
       "      <td>-9.63</td>\n",
       "      <td>263.72</td>\n",
       "      <td>-10.65</td>\n",
       "      <td>92.2</td>\n",
       "      <td>2.94</td>\n",
       "      <td>2.71</td>\n",
       "      <td>0.23</td>\n",
       "      <td>1.69</td>\n",
       "      <td>2.71</td>\n",
       "      <td>1317.19</td>\n",
       "      <td>0.40</td>\n",
       "      <td>0.88</td>\n",
       "      <td>157.0</td>\n",
       "    </tr>\n",
       "  </tbody>\n",
       "</table>\n",
       "</div>"
      ],
      "text/plain": [
       "             Date Time  p (mbar)  T (degC)  Tpot (K)  Tdew (degC)  rh (%)  \\\n",
       "0  01.01.2009 01:00:00    996.50     -8.05    265.38        -8.78    94.4   \n",
       "1  01.01.2009 02:00:00    996.62     -8.88    264.54        -9.77    93.2   \n",
       "2  01.01.2009 03:00:00    996.84     -8.81    264.59        -9.66    93.5   \n",
       "3  01.01.2009 04:00:00    996.99     -9.05    264.34       -10.02    92.6   \n",
       "4  01.01.2009 05:00:00    997.46     -9.63    263.72       -10.65    92.2   \n",
       "\n",
       "   VPmax (mbar)  VPact (mbar)  VPdef (mbar)  sh (g/kg)  H2OC (mmol/mol)  \\\n",
       "0          3.33          3.14          0.19       1.96             3.15   \n",
       "1          3.12          2.90          0.21       1.81             2.91   \n",
       "2          3.13          2.93          0.20       1.83             2.94   \n",
       "3          3.07          2.85          0.23       1.78             2.85   \n",
       "4          2.94          2.71          0.23       1.69             2.71   \n",
       "\n",
       "   rho (g/m**3)  wv (m/s)  max. wv (m/s)  wd (deg)  \n",
       "0       1307.86      0.21           0.63     192.7  \n",
       "1       1312.25      0.25           0.63     190.3  \n",
       "2       1312.18      0.18           0.63     167.2  \n",
       "3       1313.61      0.10           0.38     240.0  \n",
       "4       1317.19      0.40           0.88     157.0  "
      ]
     },
     "execution_count": 3,
     "metadata": {},
     "output_type": "execute_result"
    }
   ],
   "source": [
    "dataset.head()"
   ]
  },
  {
   "cell_type": "code",
   "execution_count": 5,
   "metadata": {
    "_uuid": "f829320cee45bdf5fbda1fd1b64ca9d7ec306152"
   },
   "outputs": [
    {
     "data": {
      "text/plain": [
       "(70037, 15)"
      ]
     },
     "execution_count": 5,
     "metadata": {},
     "output_type": "execute_result"
    }
   ],
   "source": [
    "dataset.shape"
   ]
  },
  {
   "cell_type": "code",
   "execution_count": 35,
   "metadata": {
    "_uuid": "cb7f5d9931de19612f54463d2030773a7021f088",
    "collapsed": true
   },
   "outputs": [],
   "source": [
    "submission = pd.read_csv('C:/Users/nisar/OneDrive/Desktop/Depaul/CSC-578_NN_and_DeepLearning/Final Project/sample_submission.csv')\n",
    "submission = submission['date_time']"
   ]
  },
  {
   "cell_type": "code",
   "execution_count": 36,
   "metadata": {
    "_cell_guid": "79c7e3d0-c299-4dcb-8224-4455121ee9b0",
    "_uuid": "d629ff2d2480ee46fbb7e2d37f6b5fab8052498a",
    "collapsed": true
   },
   "outputs": [],
   "source": [
    "data_dir = 'C:/Users/nisar/OneDrive/Desktop/Depaul/CSC-578_NN_and_DeepLearning/Final Project/'\n",
    "fname = os.path.join(data_dir, 'climate_hour.csv')\n",
    "\n",
    "f = open(fname)\n",
    "data = f.read()\n",
    "f.close()"
   ]
  },
  {
   "cell_type": "code",
   "execution_count": 37,
   "metadata": {
    "_uuid": "fe03f7c5ed55b10031ddcc1528e45e39d9ecad14"
   },
   "outputs": [
    {
     "name": "stdout",
     "output_type": "stream",
     "text": [
      "['\"Date Time\"', '\"p (mbar)\"', '\"T (degC)\"', '\"Tpot (K)\"', '\"Tdew (degC)\"', '\"rh (%)\"', '\"VPmax (mbar)\"', '\"VPact (mbar)\"', '\"VPdef (mbar)\"', '\"sh (g/kg)\"', '\"H2OC (mmol/mol)\"', '\"rho (g/m**3)\"', '\"wv (m/s)\"', '\"max. wv (m/s)\"', '\"wd (deg)\"']\n",
      "70038\n"
     ]
    }
   ],
   "source": [
    "lines = data.split('\\n')\n",
    "header = lines[0].split(',')\n",
    "lines = lines[1:]\n",
    "\n",
    "print(header)\n",
    "print(len(lines))"
   ]
  },
  {
   "cell_type": "code",
   "execution_count": 38,
   "metadata": {
    "_uuid": "f0377ee3faac0948206260514a037f9abc407c85",
    "collapsed": true
   },
   "outputs": [],
   "source": [
    "del lines[70037]"
   ]
  },
  {
   "cell_type": "code",
   "execution_count": 39,
   "metadata": {
    "_uuid": "0a1de6df7db852203052ea96eef1f9cca5b64c3b"
   },
   "outputs": [
    {
     "name": "stdout",
     "output_type": "stream",
     "text": [
      "(70037, 14)\n"
     ]
    }
   ],
   "source": [
    "import numpy as np\n",
    "\n",
    "# Parse the data\n",
    "float_data = np.zeros((len(lines), len(header) - 1))\n",
    "for i, line in enumerate(lines):\n",
    "    values = [float(x) for x in line.split(',')[1:]]\n",
    "    float_data[i, :] = values\n",
    "print(float_data.shape)"
   ]
  },
  {
   "cell_type": "code",
   "execution_count": 40,
   "metadata": {},
   "outputs": [
    {
     "data": {
      "text/plain": [
       "array([[ 9.96500e+02, -8.05000e+00,  2.65380e+02, ...,  2.10000e-01,\n",
       "         6.30000e-01,  1.92700e+02],\n",
       "       [ 9.96620e+02, -8.88000e+00,  2.64540e+02, ...,  2.50000e-01,\n",
       "         6.30000e-01,  1.90300e+02],\n",
       "       [ 9.96840e+02, -8.81000e+00,  2.64590e+02, ...,  1.80000e-01,\n",
       "         6.30000e-01,  1.67200e+02],\n",
       "       ...,\n",
       "       [ 1.00070e+03, -2.59000e+00,  2.70510e+02, ...,  3.80000e-01,\n",
       "         7.20000e-01,  8.15000e+00],\n",
       "       [ 1.00021e+03, -3.76000e+00,  2.69390e+02, ...,  8.90000e-01,\n",
       "         1.30000e+00,  2.23700e+02],\n",
       "       [ 9.99820e+02, -4.82000e+00,  2.68360e+02, ...,  1.23000e+00,\n",
       "         1.96000e+00,  1.84900e+02]])"
      ]
     },
     "execution_count": 40,
     "metadata": {},
     "output_type": "execute_result"
    }
   ],
   "source": [
    "float_data"
   ]
  },
  {
   "cell_type": "code",
   "execution_count": 41,
   "metadata": {
    "_uuid": "9ebc1d945400e32c28d7182d6b3d1baca97addf1"
   },
   "outputs": [
    {
     "data": {
      "image/png": "[encoded data removed]",
      "text/plain": [
       "<matplotlib.figure.Figure at 0x2c4a18e3da0>"
      ]
     },
     "metadata": {},
     "output_type": "display_data"
    }
   ],
   "source": [
    "temp = float_data[:, 1]\n",
    "plt.plot(range(1440), temp[:1440]);"
   ]
  },
  {
   "cell_type": "code",
   "execution_count": 42,
   "metadata": {
    "_uuid": "445ef0c9d3fafdd4ebfe94eedeb6471ab84f39af"
   },
   "outputs": [
    {
     "data": {
      "text/plain": [
       "array([[ 9.96500e+02, -8.05000e+00,  2.65380e+02, -8.78000e+00,\n",
       "         9.44000e+01,  3.33000e+00,  3.14000e+00,  1.90000e-01,\n",
       "         1.96000e+00,  3.15000e+00,  1.30786e+03,  2.10000e-01,\n",
       "         6.30000e-01,  1.92700e+02],\n",
       "       [ 9.96620e+02, -8.88000e+00,  2.64540e+02, -9.77000e+00,\n",
       "         9.32000e+01,  3.12000e+00,  2.90000e+00,  2.10000e-01,\n",
       "         1.81000e+00,  2.91000e+00,  1.31225e+03,  2.50000e-01,\n",
       "         6.30000e-01,  1.90300e+02]])"
      ]
     },
     "execution_count": 42,
     "metadata": {},
     "output_type": "execute_result"
    }
   ],
   "source": [
    "float_data[0:2]"
   ]
  },
  {
   "cell_type": "code",
   "execution_count": 43,
   "metadata": {
    "_uuid": "fbbe0f9f4e21533a9bc9f1a02895738864902a23"
   },
   "outputs": [
    {
     "data": {
      "text/html": [
       "<div>\n",
       "<style scoped>\n",
       "    .dataframe tbody tr th:only-of-type {\n",
       "        vertical-align: middle;\n",
       "    }\n",
       "\n",
       "    .dataframe tbody tr th {\n",
       "        vertical-align: top;\n",
       "    }\n",
       "\n",
       "    .dataframe thead th {\n",
       "        text-align: right;\n",
       "    }\n",
       "</style>\n",
       "<table border=\"1\" class=\"dataframe\">\n",
       "  <thead>\n",
       "    <tr style=\"text-align: right;\">\n",
       "      <th></th>\n",
       "      <th>Date Time</th>\n",
       "      <th>p (mbar)</th>\n",
       "      <th>T (degC)</th>\n",
       "      <th>Tpot (K)</th>\n",
       "      <th>Tdew (degC)</th>\n",
       "      <th>rh (%)</th>\n",
       "      <th>VPmax (mbar)</th>\n",
       "      <th>VPact (mbar)</th>\n",
       "      <th>VPdef (mbar)</th>\n",
       "      <th>sh (g/kg)</th>\n",
       "      <th>H2OC (mmol/mol)</th>\n",
       "      <th>rho (g/m**3)</th>\n",
       "      <th>wv (m/s)</th>\n",
       "      <th>max. wv (m/s)</th>\n",
       "      <th>wd (deg)</th>\n",
       "    </tr>\n",
       "  </thead>\n",
       "  <tbody>\n",
       "    <tr>\n",
       "      <th>52564</th>\n",
       "      <td>31.12.2014 22:00:00</td>\n",
       "      <td>1006.92</td>\n",
       "      <td>1.94</td>\n",
       "      <td>274.56</td>\n",
       "      <td>1.75</td>\n",
       "      <td>98.6</td>\n",
       "      <td>7.03</td>\n",
       "      <td>6.93</td>\n",
       "      <td>0.1</td>\n",
       "      <td>4.29</td>\n",
       "      <td>6.88</td>\n",
       "      <td>1271.74</td>\n",
       "      <td>0.71</td>\n",
       "      <td>1.8</td>\n",
       "      <td>129.6</td>\n",
       "    </tr>\n",
       "  </tbody>\n",
       "</table>\n",
       "</div>"
      ],
      "text/plain": [
       "                 Date Time  p (mbar)  T (degC)  Tpot (K)  Tdew (degC)  rh (%)  \\\n",
       "52564  31.12.2014 22:00:00   1006.92      1.94    274.56         1.75    98.6   \n",
       "\n",
       "       VPmax (mbar)  VPact (mbar)  VPdef (mbar)  sh (g/kg)  H2OC (mmol/mol)  \\\n",
       "52564          7.03          6.93           0.1       4.29             6.88   \n",
       "\n",
       "       rho (g/m**3)  wv (m/s)  max. wv (m/s)  wd (deg)  \n",
       "52564       1271.74      0.71            1.8     129.6  "
      ]
     },
     "execution_count": 43,
     "metadata": {},
     "output_type": "execute_result"
    }
   ],
   "source": [
    "dataset[dataset['Date Time']=='31.12.2014 22:00:00'] # to find the index for split"
   ]
  },
  {
   "cell_type": "code",
   "execution_count": 44,
   "metadata": {
    "_uuid": "94519527612f6744f120e54d19b595c0a4d0ffd2",
    "collapsed": true
   },
   "outputs": [],
   "source": [
    "def series_to_supervised(mat,lookback,future_step=1):\n",
    "    '''\n",
    "    Convert a timeseries as a supervised learning dataset.\n",
    "    References:\n",
    "    https://machinelearningmastery.com/convert-time-series-supervised-learning-problem-python/\n",
    "    Arguments:\n",
    "        mat: [np.ndarray] a numpy nd array object with values in float format\n",
    "        lookback: [int] number of timeframes to look back in past (t-n,...,t-1). This does not include current time frame (t)\n",
    "                E.g. to look 24 hours data including current time-stamp, this value should be 23 (t-23,..,t-1 and t(covered in future_step)).\n",
    "        future_step: [int] number of timeframes to look in future (t,t+1,..,t+n). This includes the current time frame (t).\n",
    "                E.g. to look 1 timeframe ahead in future, the value should be 2 (t and t+1).        \n",
    "    Returns:\n",
    "        A pandas data frame with timeseries framed for supervised learning.\n",
    "    '''\n",
    "    \n",
    "    n_vars = mat.shape[-1]\n",
    "    df = pd.DataFrame(mat)\n",
    "\n",
    "    cols,names = list(),list()\n",
    "    #create input sequence (t-n,....,t-1)\n",
    "    for i in range(lookback,0,-1):\n",
    "        cols.append(df.shift(i))\n",
    "        names+=[('var%d(t-%d)'%(j+1,i)) for j in range(n_vars)]\n",
    "    #create forecast sequence (t,t+1,..,t+n)\n",
    "    for i in range(0,future_step):\n",
    "        cols.append(df.shift(-i))\n",
    "        if i==0:\n",
    "            names+=[('var%d(t)'%(j+1)) for j in range(n_vars)]\n",
    "        else:\n",
    "            names+=[('var%d(t+%d)'%(j+1,i)) for j in range(n_vars)]\n",
    "    #concatenate all columns\n",
    "    agg = pd.concat(cols,axis=1)\n",
    "    agg.columns = names\n",
    "    #drop nulls\n",
    "    agg.dropna(inplace=True)\n",
    "    return agg"
   ]
  },
  {
   "cell_type": "markdown",
   "metadata": {
    "_uuid": "f048dfd0a51a1ca4a60b56ffc25d7a6a372ad545"
   },
   "source": [
    "## Dividing the data into training and testing \n",
    "we will split the data from 01.01.2009 01:00:00  to 31.12.2014 22:00:00 into traing data and 31.12.2014 00:00:00 to 1.12.2016 23:00:00 into testing data"
   ]
  },
  {
   "cell_type": "code",
   "execution_count": 45,
   "metadata": {
    "_uuid": "3ce689848569317494f0024bd3a0f749094cbb18"
   },
   "outputs": [],
   "source": [
    "lookback = 23\n",
    "future_step = 2\n",
    "\n",
    "#create train_data\n",
    "train = series_to_supervised(float_data[:52564+future_step],23,2)\n",
    "# Seperate the samples and target variables\n",
    "x_train = train.iloc[:,:336]\n",
    "y_train = train.iloc[:,337]\n",
    "\n",
    "#create test_data\n",
    "test = series_to_supervised(float_data[52565-lookback:],lookback,future_step)\n",
    "\n",
    "# Seperate the samples and target variables\n",
    "x_test = test.iloc[:,:336]\n",
    "y_test = test.iloc[:,337]"
   ]
  },
  {
   "cell_type": "markdown",
   "metadata": {},
   "source": [
    "### Normalize the data"
   ]
  },
  {
   "cell_type": "code",
   "execution_count": 46,
   "metadata": {},
   "outputs": [],
   "source": [
    "scaler = MinMaxScaler(feature_range=(0, 1))\n",
    "x_train_norm = scaler.fit_transform(x_train)\n",
    "x_test_norm = scaler.fit_transform(x_test)"
   ]
  },
  {
   "cell_type": "markdown",
   "metadata": {
    "_uuid": "b834644a87c989abbc7e9ff1ba0567be1690f4c9"
   },
   "source": [
    "### Converting the 2-D data into 3-D"
   ]
  },
  {
   "cell_type": "code",
   "execution_count": 47,
   "metadata": {
    "_uuid": "e87c9adf062a5960feccf2f3c24eb065b61ab470",
    "scrolled": true
   },
   "outputs": [],
   "source": [
    "from sklearn.model_selection import train_test_split\n",
    "x_train_norm, x_val_norm, y_train, y_val=train_test_split(x_train_norm,y_train,test_size=0.25,random_state=10)"
   ]
  },
  {
   "cell_type": "code",
   "execution_count": 48,
   "metadata": {},
   "outputs": [],
   "source": [
    "x_train_norm = x_train_norm.reshape(x_train_norm.shape[0],24,14)\n",
    "x_test_norm = x_test_norm.reshape(x_test_norm.shape[0],24,14)\n",
    "x_val_norm = x_val_norm.reshape(x_val_norm.shape[0],24,14)\n",
    "y_train = y_train.values\n",
    "y_val = y_val.values"
   ]
  },
  {
   "cell_type": "code",
   "execution_count": 49,
   "metadata": {},
   "outputs": [
    {
     "name": "stdout",
     "output_type": "stream",
     "text": [
      "Shape: (39406, 24, 14) Type: <built-in method view of numpy.ndarray object at 0x000002C4A18DD4E0>\n",
      "Shape: (17471, 24, 14) Type: <built-in method view of numpy.ndarray object at 0x000002C49F4AD080>\n",
      "Shape: (13136, 24, 14) Type: <built-in method view of numpy.ndarray object at 0x000002C49F4AD800>\n",
      "Shape: (39406,) Type: <built-in method view of numpy.ndarray object at 0x000002C49F912B20>\n",
      "Shape: (13136,) Type: <built-in method view of numpy.ndarray object at 0x000002C4A04B2E40>\n"
     ]
    }
   ],
   "source": [
    "print('Shape:',x_train_norm.shape, 'Type:', x_train_norm.view)\n",
    "print('Shape:',x_test_norm.shape, 'Type:', x_test_norm.view)\n",
    "print('Shape:',x_val_norm.shape, 'Type:', x_val_norm.view)\n",
    "print('Shape:',y_train.shape, 'Type:', y_train.view)\n",
    "print('Shape:',y_val.shape, 'Type:', y_val.view)"
   ]
  },
  {
   "cell_type": "markdown",
   "metadata": {
    "_uuid": "eb95098709e2d8f1a2199dd386155019f2cddf7b"
   },
   "source": [
    "### Building baseline model using 1 layer of LSTM"
   ]
  },
  {
   "cell_type": "code",
   "execution_count": 50,
   "metadata": {
    "_uuid": "326c10690e605fcf1946b98156038aa9fde4b33f",
    "collapsed": true
   },
   "outputs": [],
   "source": [
    "import time\n",
    "from math import sqrt\n",
    "from pandas import DataFrame\n",
    "from pandas import concat\n",
    "\n",
    "from sklearn import preprocessing\n",
    "from sklearn.preprocessing import MinMaxScaler\n",
    "from sklearn.metrics import mean_squared_error\n",
    "\n",
    "from keras.models import Sequential\n",
    "from keras.layers import Dense, Dropout,Activation\n",
    "from keras.layers import Embedding\n",
    "from keras.layers import LSTM, GRU\n",
    "from keras.layers import concatenate\n",
    "from keras.layers import Bidirectional\n",
    "from keras import optimizers"
   ]
  },
  {
   "cell_type": "code",
   "execution_count": 51,
   "metadata": {
    "collapsed": true
   },
   "outputs": [],
   "source": [
    "adam = keras.optimizers.Adam(lr = 0.001,decay=0.001)"
   ]
  },
  {
   "cell_type": "code",
   "execution_count": 52,
   "metadata": {
    "_uuid": "fb925255ac15a3169451344f5db9cb32f14f2834"
   },
   "outputs": [],
   "source": [
    "model1 = Sequential()\n",
    "model1.add(Bidirectional(LSTM(64,return_sequences=True,\n",
    "                              input_shape = (x_train_norm.shape[1],x_train_norm.shape[2]))))\n",
    "model1.add(Dropout(0.2))\n",
    "model1.add(LSTM(64,return_sequences=False))\n",
    "model1.add(Dense(1))\n",
    "model1.compile(loss='mae',optimizer='adam')"
   ]
  },
  {
   "cell_type": "code",
   "execution_count": 64,
   "metadata": {},
   "outputs": [
    {
     "name": "stdout",
     "output_type": "stream",
     "text": [
      "_________________________________________________________________\n",
      "Layer (type)                 Output Shape              Param #   \n",
      "=================================================================\n",
      "bidirectional_2 (Bidirection (None, 24, 128)           40448     \n",
      "_________________________________________________________________\n",
      "dropout_2 (Dropout)          (None, 24, 128)           0         \n",
      "_________________________________________________________________\n",
      "lstm_4 (LSTM)                (None, 64)                49408     \n",
      "_________________________________________________________________\n",
      "dense_2 (Dense)              (None, 1)                 65        \n",
      "=================================================================\n",
      "Total params: 89,921\n",
      "Trainable params: 89,921\n",
      "Non-trainable params: 0\n",
      "_________________________________________________________________\n"
     ]
    }
   ],
   "source": [
    "model1.summary()"
   ]
  },
  {
   "cell_type": "code",
   "execution_count": 53,
   "metadata": {
    "_uuid": "3b1c7d606bf4e00b764318f65fcd1977a723d1b1",
    "scrolled": true
   },
   "outputs": [
    {
     "name": "stdout",
     "output_type": "stream",
     "text": [
      "Train on 39406 samples, validate on 13136 samples\n",
      "Epoch 1/30\n",
      " - 56s - loss: 1.7101 - val_loss: 0.6944\n",
      "Epoch 2/30\n",
      " - 52s - loss: 0.7590 - val_loss: 0.7251\n",
      "Epoch 3/30\n",
      " - 49s - loss: 0.6921 - val_loss: 0.5754\n",
      "Epoch 4/30\n",
      " - 49s - loss: 0.6625 - val_loss: 0.6070\n",
      "Epoch 5/30\n",
      " - 49s - loss: 0.6270 - val_loss: 0.5665\n",
      "Epoch 6/30\n",
      " - 52s - loss: 0.6013 - val_loss: 0.5376\n",
      "Epoch 7/30\n",
      " - 49s - loss: 0.5928 - val_loss: 0.5404\n",
      "Epoch 8/30\n",
      " - 49s - loss: 0.5765 - val_loss: 0.5230\n",
      "Epoch 9/30\n",
      " - 49s - loss: 0.5680 - val_loss: 0.5211\n",
      "Epoch 10/30\n",
      " - 49s - loss: 0.5548 - val_loss: 0.5582\n",
      "Epoch 11/30\n",
      " - 49s - loss: 0.5548 - val_loss: 0.5175\n",
      "Epoch 12/30\n",
      " - 49s - loss: 0.5588 - val_loss: 0.5266\n",
      "Epoch 13/30\n",
      " - 49s - loss: 0.5419 - val_loss: 0.5107\n",
      "Epoch 14/30\n",
      " - 49s - loss: 0.5425 - val_loss: 0.4915\n",
      "Epoch 15/30\n",
      " - 49s - loss: 0.5391 - val_loss: 0.4828\n",
      "Epoch 16/30\n",
      " - 49s - loss: 0.5354 - val_loss: 0.4894\n",
      "Epoch 17/30\n",
      " - 49s - loss: 0.5352 - val_loss: 0.4806\n",
      "Epoch 18/30\n",
      " - 49s - loss: 0.5290 - val_loss: 0.5013\n",
      "Epoch 19/30\n",
      " - 49s - loss: 0.5282 - val_loss: 0.5237\n",
      "Epoch 20/30\n",
      " - 49s - loss: 0.5263 - val_loss: 0.5239\n",
      "Epoch 21/30\n",
      " - 49s - loss: 0.5214 - val_loss: 0.5074\n",
      "Epoch 22/30\n",
      " - 50s - loss: 0.5170 - val_loss: 0.4920\n",
      "Epoch 23/30\n",
      " - 49s - loss: 0.5180 - val_loss: 0.4838\n",
      "Epoch 24/30\n",
      " - 49s - loss: 0.5186 - val_loss: 0.5035\n",
      "Epoch 25/30\n",
      " - 49s - loss: 0.5135 - val_loss: 0.4703\n",
      "Epoch 26/30\n",
      " - 49s - loss: 0.5181 - val_loss: 0.4985\n",
      "Epoch 27/30\n",
      " - 49s - loss: 0.5103 - val_loss: 0.4746\n",
      "Epoch 28/30\n",
      " - 49s - loss: 0.5112 - val_loss: 0.4780\n",
      "Epoch 29/30\n",
      " - 49s - loss: 0.5082 - val_loss: 0.4931\n",
      "Epoch 30/30\n",
      " - 49s - loss: 0.5078 - val_loss: 0.4898\n"
     ]
    }
   ],
   "source": [
    "history1 = model1.fit(x_train_norm, y_train, batch_size=32, epochs = 30,validation_data=(x_val_norm,y_val), verbose = 2)"
   ]
  },
  {
   "cell_type": "code",
   "execution_count": 56,
   "metadata": {
    "_uuid": "c14bf7dedb7401b6b6813205581f459ff492a9be",
    "collapsed": true,
    "scrolled": false
   },
   "outputs": [],
   "source": [
    "def plot_history(model_eval):\n",
    "    pyplot.plot(model_eval.history['loss'], label='train')\n",
    "    pyplot.plot(model_eval.history['val_loss'], label='test')\n",
    "    pyplot.xlabel(\"Epochs\")\n",
    "    pyplot.ylabel(\"Loss\")\n",
    "    pyplot.legend()\n",
    "    pyplot.show()"
   ]
  },
  {
   "cell_type": "code",
   "execution_count": 55,
   "metadata": {
    "_uuid": "80758f154ae9f8985c0e66f5e44e9abef3ddaad9"
   },
   "outputs": [],
   "source": [
    "pred3 = model1.predict(x_test_norm)"
   ]
  },
  {
   "cell_type": "code",
   "execution_count": 58,
   "metadata": {},
   "outputs": [
    {
     "data": {
      "image/png": "[encoded data removed]",
      "text/plain": [
       "<matplotlib.figure.Figure at 0x2c4a9cbc898>"
      ]
     },
     "metadata": {},
     "output_type": "display_data"
    }
   ],
   "source": [
    "plot_history(history1)"
   ]
  },
  {
   "cell_type": "code",
   "execution_count": 60,
   "metadata": {
    "_uuid": "febcb92f9bb4841c5d0e723be1578233aa45774f",
    "scrolled": true
   },
   "outputs": [],
   "source": [
    "columns_new = ['temperature']\n",
    "predict1 = pd.DataFrame(pred3, columns=columns_new)"
   ]
  },
  {
   "cell_type": "code",
   "execution_count": null,
   "metadata": {
    "_uuid": "327dbe74ae49402d4f426ffdaa3e86ea71be0b9e",
    "collapsed": true
   },
   "outputs": [],
   "source": [
    "frames = [submission,ypred]\n",
    "submission1 = pd.concat([submission,ypred], axis=1)"
   ]
  },
  {
   "cell_type": "code",
   "execution_count": 61,
   "metadata": {
    "_uuid": "ecb5b51c6e52abd700b8c7e286d5e3d8b1bc1401",
    "collapsed": true
   },
   "outputs": [],
   "source": [
    "submission1 = pd.concat([submission,predict1], axis=1)\n",
    "submission1.to_csv('submission1@1112.csv', index= False)"
   ]
  },
  {
   "cell_type": "code",
   "execution_count": null,
   "metadata": {
    "_uuid": "0bfde64e046e018f8fe5486f5cbafdd24a2929ca",
    "collapsed": true
   },
   "outputs": [],
   "source": [
    "'''test_X = test_X.reshape((test_X.shape[0], test_X.shape[2]))\n",
    "# invert scaling for forecast\n",
    "inv_yhat = concatenate((yhat, test_X[:, 1:]), axis=1)\n",
    "inv_yhat = scaler.inverse_transform(inv_yhat)\n",
    "inv_yhat = inv_yhat[:,0]\n",
    "# invert scaling for actual\n",
    "y_test = y_test.reshape((len(y_test), 1))\n",
    "inv_y = concatenate((y_test, test_X[:, 1:]), axis=1)\n",
    "inv_y = scaler.inverse_transform(inv_y)\n",
    "inv_y = inv_y[:,0]\n",
    "# calculate RMSE\n",
    "rmse = sqrt(mean_squared_error(inv_y, inv_yhat))\n",
    "print('Test RMSE: %.3f' % rmse) '''"
   ]
  },
  {
   "cell_type": "markdown",
   "metadata": {
    "_uuid": "93dcae774b508c656c1aad55145d8fac2b20fc1a"
   },
   "source": [
    "### Model 2"
   ]
  },
  {
   "cell_type": "code",
   "execution_count": 70,
   "metadata": {
    "_uuid": "596aef4e4a821549afff9c93a4046cb47db209b3",
    "scrolled": true
   },
   "outputs": [
    {
     "name": "stdout",
     "output_type": "stream",
     "text": [
      "_________________________________________________________________\n",
      "Layer (type)                 Output Shape              Param #   \n",
      "=================================================================\n",
      "lstm_11 (LSTM)               (None, 24, 50)            13000     \n",
      "_________________________________________________________________\n",
      "dropout_9 (Dropout)          (None, 24, 50)            0         \n",
      "_________________________________________________________________\n",
      "lstm_12 (LSTM)               (None, 24, 128)           91648     \n",
      "_________________________________________________________________\n",
      "dropout_10 (Dropout)         (None, 24, 128)           0         \n",
      "_________________________________________________________________\n",
      "lstm_13 (LSTM)               (None, 64)                49408     \n",
      "_________________________________________________________________\n",
      "dropout_11 (Dropout)         (None, 64)                0         \n",
      "_________________________________________________________________\n",
      "dense_5 (Dense)              (None, 1)                 65        \n",
      "=================================================================\n",
      "Total params: 154,121\n",
      "Trainable params: 154,121\n",
      "Non-trainable params: 0\n",
      "_________________________________________________________________\n"
     ]
    }
   ],
   "source": [
    "model3 = Sequential()\n",
    "model3.add(LSTM(50,\n",
    "               input_shape=(x_train_norm.shape[1],x_train_norm.shape[2]),\n",
    "               return_sequences=True))\n",
    "model3.add(Dropout(0.2))\n",
    "model3.add(LSTM(128, return_sequences=True))\n",
    "model3.add(Dropout(0.2))\n",
    "model3.add(LSTM(64, return_sequences=False))\n",
    "model3.add(Dropout(0.2))\n",
    "model3.add(Dense(1, activation=\"relu\"))\n",
    "model3.compile(loss=\"mae\", optimizer='adam')\n",
    "model3.summary()"
   ]
  },
  {
   "cell_type": "code",
   "execution_count": 71,
   "metadata": {
    "_uuid": "28b2572dccb98c7f0ba8ba2e116d5493c275c234",
    "scrolled": true
   },
   "outputs": [
    {
     "name": "stdout",
     "output_type": "stream",
     "text": [
      "Train on 27584 samples, validate on 11822 samples\n",
      "Epoch 1/20\n",
      " - 54s - loss: 4.6131 - val_loss: 2.0430\n",
      "Epoch 2/20\n",
      " - 52s - loss: 2.0458 - val_loss: 1.4363\n",
      "Epoch 3/20\n",
      " - 55s - loss: 1.7298 - val_loss: 1.4397\n",
      "Epoch 4/20\n",
      " - 54s - loss: 1.6228 - val_loss: 1.1700\n",
      "Epoch 5/20\n",
      " - 55s - loss: 1.5516 - val_loss: 1.2156\n",
      "Epoch 6/20\n",
      " - 57s - loss: 1.5238 - val_loss: 1.1877\n",
      "Epoch 7/20\n",
      " - 62s - loss: 1.5000 - val_loss: 1.1027\n",
      "Epoch 8/20\n",
      " - 55s - loss: 1.4746 - val_loss: 1.1319\n",
      "Epoch 9/20\n",
      " - 55s - loss: 1.4553 - val_loss: 1.0848\n",
      "Epoch 10/20\n",
      " - 56s - loss: 1.4514 - val_loss: 1.1398\n",
      "Epoch 11/20\n",
      " - 62s - loss: 1.4507 - val_loss: 1.1182\n",
      "Epoch 12/20\n",
      " - 61s - loss: 1.4461 - val_loss: 1.1244\n",
      "Epoch 13/20\n",
      " - 59s - loss: 1.4268 - val_loss: 1.0908\n",
      "Epoch 14/20\n",
      " - 51s - loss: 1.4220 - val_loss: 1.0934\n",
      "Epoch 15/20\n",
      " - 54s - loss: 1.4194 - val_loss: 1.0464\n",
      "Epoch 16/20\n",
      " - 53s - loss: 1.3952 - val_loss: 1.0666\n",
      "Epoch 17/20\n",
      " - 52s - loss: 1.3988 - val_loss: 1.1670\n",
      "Epoch 18/20\n",
      " - 51s - loss: 1.3924 - val_loss: 1.0691\n",
      "Epoch 19/20\n",
      " - 50s - loss: 1.3875 - val_loss: 1.1301\n",
      "Epoch 20/20\n",
      " - 53s - loss: 1.3887 - val_loss: 1.3413\n",
      "---> Compilation Time :  1102.7850790023804\n"
     ]
    }
   ],
   "source": [
    "start = time.time()\n",
    "history3 = model3.fit(x_train_norm,y_train, batch_size = 32,\n",
    "                      epochs=20, validation_split = 0.30, verbose = 2)\n",
    "print(\"---> Compilation Time : \", time.time() - start)"
   ]
  },
  {
   "cell_type": "code",
   "execution_count": 72,
   "metadata": {
    "_uuid": "6832c84071e1b296f82626df6d8398a46cd6f77e",
    "collapsed": true
   },
   "outputs": [],
   "source": [
    "pred4 = model3.predict(x_test_norm)"
   ]
  },
  {
   "cell_type": "code",
   "execution_count": 73,
   "metadata": {},
   "outputs": [
    {
     "data": {
      "image/png": "[encoded data removed]",
      "text/plain": [
       "<matplotlib.figure.Figure at 0x2c4c492d400>"
      ]
     },
     "metadata": {},
     "output_type": "display_data"
    }
   ],
   "source": [
    "plot_history(history3)"
   ]
  },
  {
   "cell_type": "code",
   "execution_count": 76,
   "metadata": {
    "_uuid": "3d11d539849b391418d570cbd9659fafc94bbbcb"
   },
   "outputs": [],
   "source": [
    "columns_new = ['temperature']\n",
    "predict2 = pd.DataFrame(pred4, columns=columns_new)\n",
    "submission2 = pd.concat([submission,predict2], axis=1)"
   ]
  },
  {
   "cell_type": "code",
   "execution_count": 77,
   "metadata": {
    "_uuid": "1ddff78599b3606d91574d683fae2765030acc2f",
    "collapsed": true
   },
   "outputs": [],
   "source": [
    "submission2.to_csv('submission2.csv', index= False)"
   ]
  }
 ],
 "metadata": {
  "kernelspec": {
   "display_name": "Python 3",
   "language": "python",
   "name": "python3"
  },
  "language_info": {
   "codemirror_mode": {
    "name": "ipython",
    "version": 3
   },
   "file_extension": ".py",
   "mimetype": "text/x-python",
   "name": "python",
   "nbconvert_exporter": "python",
   "pygments_lexer": "ipython3",
   "version": "3.6.2"
  }
 },
 "nbformat": 4,
 "nbformat_minor": 1
}
