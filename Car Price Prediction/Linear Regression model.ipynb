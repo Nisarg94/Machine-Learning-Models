{
 "cells": [
  {
   "cell_type": "code",
   "execution_count": 1,
   "metadata": {},
   "outputs": [
    {
     "data": {
      "text/plain": [
       "'C:\\\\Users\\\\nisar\\\\OneDrive\\\\Desktop\\\\Depaul\\\\CSC_424-AdvanceDataAnalysis\\\\Final Project'"
      ]
     },
     "execution_count": 1,
     "metadata": {},
     "output_type": "execute_result"
    }
   ],
   "source": [
    "pwd"
   ]
  },
  {
   "cell_type": "code",
   "execution_count": 2,
   "metadata": {
    "collapsed": true
   },
   "outputs": [],
   "source": [
    "%matplotlib inline\n",
    "import matplotlib.pyplot as plt\n",
    "import sklearn.preprocessing\n",
    "\n",
    "import numpy as np\n",
    "import pandas as pd\n",
    "import sys\n",
    "import seaborn as sns\n",
    "\n",
    "from sklearn import model_selection\n",
    "from sklearn.linear_model import LinearRegression\n",
    "from pandas import DataFrame, read_csv\n",
    "from sklearn import preprocessing"
   ]
  },
  {
   "cell_type": "code",
   "execution_count": 3,
   "metadata": {
    "scrolled": true
   },
   "outputs": [
    {
     "data": {
      "text/plain": [
       "'3.6.2 |Anaconda, Inc.| (default, Sep 19 2017, 08:03:39) [MSC v.1900 64 bit (AMD64)]'"
      ]
     },
     "execution_count": 3,
     "metadata": {},
     "output_type": "execute_result"
    }
   ],
   "source": [
    "sys.version"
   ]
  },
  {
   "cell_type": "code",
   "execution_count": 4,
   "metadata": {
    "scrolled": true
   },
   "outputs": [
    {
     "data": {
      "text/html": [
       "<div>\n",
       "<style>\n",
       "    .dataframe thead tr:only-child th {\n",
       "        text-align: right;\n",
       "    }\n",
       "\n",
       "    .dataframe thead th {\n",
       "        text-align: left;\n",
       "    }\n",
       "\n",
       "    .dataframe tbody tr th {\n",
       "        vertical-align: top;\n",
       "    }\n",
       "</style>\n",
       "<table border=\"1\" class=\"dataframe\">\n",
       "  <thead>\n",
       "    <tr style=\"text-align: right;\">\n",
       "      <th></th>\n",
       "      <th>symboling</th>\n",
       "      <th>normalized_losses</th>\n",
       "      <th>make</th>\n",
       "      <th>fuel_type</th>\n",
       "      <th>aspiration</th>\n",
       "      <th>number_of_doors</th>\n",
       "      <th>body_style</th>\n",
       "      <th>drive_wheels</th>\n",
       "      <th>engine_location</th>\n",
       "      <th>wheel_base</th>\n",
       "      <th>length</th>\n",
       "      <th>width</th>\n",
       "      <th>height</th>\n",
       "      <th>curb_weight</th>\n",
       "      <th>engine_type</th>\n",
       "      <th>number_of_cylinders</th>\n",
       "      <th>engine_size</th>\n",
       "      <th>fuel_system</th>\n",
       "      <th>bore</th>\n",
       "      <th>stroke</th>\n",
       "      <th>compression_ratio</th>\n",
       "      <th>horsepower</th>\n",
       "      <th>peak_rpm</th>\n",
       "      <th>city_mpg</th>\n",
       "      <th>highway_mpg</th>\n",
       "      <th>price</th>\n",
       "    </tr>\n",
       "  </thead>\n",
       "  <tbody>\n",
       "    <tr>\n",
       "      <th>0</th>\n",
       "      <td>3</td>\n",
       "      <td>168</td>\n",
       "      <td>alfa-romero</td>\n",
       "      <td>gas</td>\n",
       "      <td>std</td>\n",
       "      <td>two</td>\n",
       "      <td>convertible</td>\n",
       "      <td>rwd</td>\n",
       "      <td>front</td>\n",
       "      <td>88.6</td>\n",
       "      <td>168.8</td>\n",
       "      <td>64.1</td>\n",
       "      <td>48.8</td>\n",
       "      <td>2548</td>\n",
       "      <td>dohc</td>\n",
       "      <td>four</td>\n",
       "      <td>130</td>\n",
       "      <td>mpfi</td>\n",
       "      <td>3.47</td>\n",
       "      <td>2.68</td>\n",
       "      <td>9.0</td>\n",
       "      <td>111</td>\n",
       "      <td>5000</td>\n",
       "      <td>21</td>\n",
       "      <td>27</td>\n",
       "      <td>13495</td>\n",
       "    </tr>\n",
       "    <tr>\n",
       "      <th>1</th>\n",
       "      <td>3</td>\n",
       "      <td>168</td>\n",
       "      <td>alfa-romero</td>\n",
       "      <td>gas</td>\n",
       "      <td>std</td>\n",
       "      <td>two</td>\n",
       "      <td>convertible</td>\n",
       "      <td>rwd</td>\n",
       "      <td>front</td>\n",
       "      <td>88.6</td>\n",
       "      <td>168.8</td>\n",
       "      <td>64.1</td>\n",
       "      <td>48.8</td>\n",
       "      <td>2548</td>\n",
       "      <td>dohc</td>\n",
       "      <td>four</td>\n",
       "      <td>130</td>\n",
       "      <td>mpfi</td>\n",
       "      <td>3.47</td>\n",
       "      <td>2.68</td>\n",
       "      <td>9.0</td>\n",
       "      <td>111</td>\n",
       "      <td>5000</td>\n",
       "      <td>21</td>\n",
       "      <td>27</td>\n",
       "      <td>16500</td>\n",
       "    </tr>\n",
       "    <tr>\n",
       "      <th>2</th>\n",
       "      <td>1</td>\n",
       "      <td>168</td>\n",
       "      <td>alfa-romero</td>\n",
       "      <td>gas</td>\n",
       "      <td>std</td>\n",
       "      <td>two</td>\n",
       "      <td>hatchback</td>\n",
       "      <td>rwd</td>\n",
       "      <td>front</td>\n",
       "      <td>94.5</td>\n",
       "      <td>171.2</td>\n",
       "      <td>65.5</td>\n",
       "      <td>52.4</td>\n",
       "      <td>2823</td>\n",
       "      <td>ohcv</td>\n",
       "      <td>six</td>\n",
       "      <td>152</td>\n",
       "      <td>mpfi</td>\n",
       "      <td>2.68</td>\n",
       "      <td>3.47</td>\n",
       "      <td>9.0</td>\n",
       "      <td>154</td>\n",
       "      <td>5000</td>\n",
       "      <td>19</td>\n",
       "      <td>26</td>\n",
       "      <td>16500</td>\n",
       "    </tr>\n",
       "    <tr>\n",
       "      <th>3</th>\n",
       "      <td>2</td>\n",
       "      <td>164</td>\n",
       "      <td>audi</td>\n",
       "      <td>gas</td>\n",
       "      <td>std</td>\n",
       "      <td>four</td>\n",
       "      <td>sedan</td>\n",
       "      <td>fwd</td>\n",
       "      <td>front</td>\n",
       "      <td>99.8</td>\n",
       "      <td>176.6</td>\n",
       "      <td>66.2</td>\n",
       "      <td>54.3</td>\n",
       "      <td>2337</td>\n",
       "      <td>ohc</td>\n",
       "      <td>four</td>\n",
       "      <td>109</td>\n",
       "      <td>mpfi</td>\n",
       "      <td>3.19</td>\n",
       "      <td>3.40</td>\n",
       "      <td>10.0</td>\n",
       "      <td>102</td>\n",
       "      <td>5500</td>\n",
       "      <td>24</td>\n",
       "      <td>30</td>\n",
       "      <td>13950</td>\n",
       "    </tr>\n",
       "    <tr>\n",
       "      <th>4</th>\n",
       "      <td>2</td>\n",
       "      <td>164</td>\n",
       "      <td>audi</td>\n",
       "      <td>gas</td>\n",
       "      <td>std</td>\n",
       "      <td>four</td>\n",
       "      <td>sedan</td>\n",
       "      <td>4wd</td>\n",
       "      <td>front</td>\n",
       "      <td>99.4</td>\n",
       "      <td>176.6</td>\n",
       "      <td>66.4</td>\n",
       "      <td>54.3</td>\n",
       "      <td>2824</td>\n",
       "      <td>ohc</td>\n",
       "      <td>five</td>\n",
       "      <td>136</td>\n",
       "      <td>mpfi</td>\n",
       "      <td>3.19</td>\n",
       "      <td>3.40</td>\n",
       "      <td>8.0</td>\n",
       "      <td>115</td>\n",
       "      <td>5500</td>\n",
       "      <td>18</td>\n",
       "      <td>22</td>\n",
       "      <td>17450</td>\n",
       "    </tr>\n",
       "  </tbody>\n",
       "</table>\n",
       "</div>"
      ],
      "text/plain": [
       "   symboling  normalized_losses         make fuel_type aspiration  \\\n",
       "0          3                168  alfa-romero       gas        std   \n",
       "1          3                168  alfa-romero       gas        std   \n",
       "2          1                168  alfa-romero       gas        std   \n",
       "3          2                164         audi       gas        std   \n",
       "4          2                164         audi       gas        std   \n",
       "\n",
       "  number_of_doors   body_style drive_wheels engine_location  wheel_base  \\\n",
       "0             two  convertible          rwd           front        88.6   \n",
       "1             two  convertible          rwd           front        88.6   \n",
       "2             two    hatchback          rwd           front        94.5   \n",
       "3            four        sedan          fwd           front        99.8   \n",
       "4            four        sedan          4wd           front        99.4   \n",
       "\n",
       "   length  width  height  curb_weight engine_type number_of_cylinders  \\\n",
       "0   168.8   64.1    48.8         2548        dohc                four   \n",
       "1   168.8   64.1    48.8         2548        dohc                four   \n",
       "2   171.2   65.5    52.4         2823        ohcv                 six   \n",
       "3   176.6   66.2    54.3         2337         ohc                four   \n",
       "4   176.6   66.4    54.3         2824         ohc                five   \n",
       "\n",
       "   engine_size fuel_system  bore  stroke  compression_ratio  horsepower  \\\n",
       "0          130        mpfi  3.47    2.68                9.0         111   \n",
       "1          130        mpfi  3.47    2.68                9.0         111   \n",
       "2          152        mpfi  2.68    3.47                9.0         154   \n",
       "3          109        mpfi  3.19    3.40               10.0         102   \n",
       "4          136        mpfi  3.19    3.40                8.0         115   \n",
       "\n",
       "   peak_rpm  city_mpg  highway_mpg  price  \n",
       "0      5000        21           27  13495  \n",
       "1      5000        21           27  16500  \n",
       "2      5000        19           26  16500  \n",
       "3      5500        24           30  13950  \n",
       "4      5500        18           22  17450  "
      ]
     },
     "execution_count": 4,
     "metadata": {},
     "output_type": "execute_result"
    }
   ],
   "source": [
    "pd.set_option('display.max_columns', 500)\n",
    "car_data=pd.read_csv(\"Automobile.csv\")\n",
    "car_data.head()"
   ]
  },
  {
   "cell_type": "markdown",
   "metadata": {},
   "source": [
    "# Label Encode to create Dummy Variables."
   ]
  },
  {
   "cell_type": "code",
   "execution_count": 5,
   "metadata": {},
   "outputs": [
    {
     "name": "stdout",
     "output_type": "stream",
     "text": [
      "['alfa-romero' 'audi' 'bmw' 'chevrolet' 'dodge' 'honda' 'isuzu' 'jaguar'\n",
      " 'mazda' 'mercedes-benz' 'mercury' 'mitsubishi' 'nissan' 'peugot'\n",
      " 'plymouth' 'porsche' 'renault' 'saab' 'subaru' 'toyota' 'volkswagen'\n",
      " 'volvo']\n",
      "['diesel' 'gas']\n",
      "['std' 'turbo']\n",
      "['four' 'two']\n",
      "['convertible' 'hardtop' 'hatchback' 'sedan' 'wagon']\n",
      "['4wd' 'fwd' 'rwd']\n",
      "['front' 'rear']\n",
      "['dohc' 'l' 'ohc' 'ohcf' 'ohcv' 'rotor']\n",
      "['eight' 'five' 'four' 'six' 'three' 'twelve' 'two']\n",
      "['1bbl' '2bbl' '4bbl' 'idi' 'mfi' 'mpfi' 'spdi' 'spfi']\n"
     ]
    }
   ],
   "source": [
    "from sklearn.preprocessing import LabelEncoder\n",
    "\n",
    "list_of_feaatures_to_encode = ['make','fuel_type','aspiration','number_of_doors','body_style','drive_wheels','engine_location','engine_type','number_of_cylinders','fuel_system']\n",
    "le = LabelEncoder()\n",
    "\n",
    "for i in list_of_feaatures_to_encode:\n",
    "    enc = le.fit(np.unique(car_data[i].values))\n",
    "    print(enc.classes_)\n",
    "    car_data[i] = le.fit_transform(car_data[i])"
   ]
  },
  {
   "cell_type": "code",
   "execution_count": 6,
   "metadata": {},
   "outputs": [
    {
     "name": "stdout",
     "output_type": "stream",
     "text": [
      "[ 0  1  2  3  4  5  6  7  8  9 10 11 12 13 14 15 16 17 18 19 20 21]\n",
      "[0 1]\n",
      "[0 1]\n",
      "[0 1]\n",
      "[0 1 2 3 4]\n",
      "[0 1 2]\n",
      "[0 1]\n",
      "[0 1 2 3 4 5]\n",
      "[0 1 2 3 4 5 6]\n",
      "[0 1 2 3 4 5 6 7]\n"
     ]
    }
   ],
   "source": [
    "for i in list_of_feaatures_to_encode:\n",
    "    enc = le.fit(np.unique(car_data[i].values))\n",
    "    print(enc.classes_)\n",
    "    car_data[i] = le.fit_transform(car_data[i])"
   ]
  },
  {
   "cell_type": "code",
   "execution_count": 7,
   "metadata": {},
   "outputs": [
    {
     "data": {
      "text/html": [
       "<div>\n",
       "<style>\n",
       "    .dataframe thead tr:only-child th {\n",
       "        text-align: right;\n",
       "    }\n",
       "\n",
       "    .dataframe thead th {\n",
       "        text-align: left;\n",
       "    }\n",
       "\n",
       "    .dataframe tbody tr th {\n",
       "        vertical-align: top;\n",
       "    }\n",
       "</style>\n",
       "<table border=\"1\" class=\"dataframe\">\n",
       "  <thead>\n",
       "    <tr style=\"text-align: right;\">\n",
       "      <th></th>\n",
       "      <th>symboling</th>\n",
       "      <th>normalized_losses</th>\n",
       "      <th>make</th>\n",
       "      <th>fuel_type</th>\n",
       "      <th>aspiration</th>\n",
       "      <th>number_of_doors</th>\n",
       "      <th>body_style</th>\n",
       "      <th>drive_wheels</th>\n",
       "      <th>engine_location</th>\n",
       "      <th>wheel_base</th>\n",
       "      <th>length</th>\n",
       "      <th>width</th>\n",
       "      <th>height</th>\n",
       "      <th>curb_weight</th>\n",
       "      <th>engine_type</th>\n",
       "      <th>number_of_cylinders</th>\n",
       "      <th>engine_size</th>\n",
       "      <th>fuel_system</th>\n",
       "      <th>bore</th>\n",
       "      <th>stroke</th>\n",
       "      <th>compression_ratio</th>\n",
       "      <th>horsepower</th>\n",
       "      <th>peak_rpm</th>\n",
       "      <th>city_mpg</th>\n",
       "      <th>highway_mpg</th>\n",
       "      <th>price</th>\n",
       "    </tr>\n",
       "  </thead>\n",
       "  <tbody>\n",
       "    <tr>\n",
       "      <th>0</th>\n",
       "      <td>3</td>\n",
       "      <td>168</td>\n",
       "      <td>0</td>\n",
       "      <td>1</td>\n",
       "      <td>0</td>\n",
       "      <td>1</td>\n",
       "      <td>0</td>\n",
       "      <td>2</td>\n",
       "      <td>0</td>\n",
       "      <td>88.6</td>\n",
       "      <td>168.8</td>\n",
       "      <td>64.1</td>\n",
       "      <td>48.8</td>\n",
       "      <td>2548</td>\n",
       "      <td>0</td>\n",
       "      <td>2</td>\n",
       "      <td>130</td>\n",
       "      <td>5</td>\n",
       "      <td>3.47</td>\n",
       "      <td>2.68</td>\n",
       "      <td>9.0</td>\n",
       "      <td>111</td>\n",
       "      <td>5000</td>\n",
       "      <td>21</td>\n",
       "      <td>27</td>\n",
       "      <td>13495</td>\n",
       "    </tr>\n",
       "    <tr>\n",
       "      <th>1</th>\n",
       "      <td>3</td>\n",
       "      <td>168</td>\n",
       "      <td>0</td>\n",
       "      <td>1</td>\n",
       "      <td>0</td>\n",
       "      <td>1</td>\n",
       "      <td>0</td>\n",
       "      <td>2</td>\n",
       "      <td>0</td>\n",
       "      <td>88.6</td>\n",
       "      <td>168.8</td>\n",
       "      <td>64.1</td>\n",
       "      <td>48.8</td>\n",
       "      <td>2548</td>\n",
       "      <td>0</td>\n",
       "      <td>2</td>\n",
       "      <td>130</td>\n",
       "      <td>5</td>\n",
       "      <td>3.47</td>\n",
       "      <td>2.68</td>\n",
       "      <td>9.0</td>\n",
       "      <td>111</td>\n",
       "      <td>5000</td>\n",
       "      <td>21</td>\n",
       "      <td>27</td>\n",
       "      <td>16500</td>\n",
       "    </tr>\n",
       "    <tr>\n",
       "      <th>2</th>\n",
       "      <td>1</td>\n",
       "      <td>168</td>\n",
       "      <td>0</td>\n",
       "      <td>1</td>\n",
       "      <td>0</td>\n",
       "      <td>1</td>\n",
       "      <td>2</td>\n",
       "      <td>2</td>\n",
       "      <td>0</td>\n",
       "      <td>94.5</td>\n",
       "      <td>171.2</td>\n",
       "      <td>65.5</td>\n",
       "      <td>52.4</td>\n",
       "      <td>2823</td>\n",
       "      <td>4</td>\n",
       "      <td>3</td>\n",
       "      <td>152</td>\n",
       "      <td>5</td>\n",
       "      <td>2.68</td>\n",
       "      <td>3.47</td>\n",
       "      <td>9.0</td>\n",
       "      <td>154</td>\n",
       "      <td>5000</td>\n",
       "      <td>19</td>\n",
       "      <td>26</td>\n",
       "      <td>16500</td>\n",
       "    </tr>\n",
       "    <tr>\n",
       "      <th>3</th>\n",
       "      <td>2</td>\n",
       "      <td>164</td>\n",
       "      <td>1</td>\n",
       "      <td>1</td>\n",
       "      <td>0</td>\n",
       "      <td>0</td>\n",
       "      <td>3</td>\n",
       "      <td>1</td>\n",
       "      <td>0</td>\n",
       "      <td>99.8</td>\n",
       "      <td>176.6</td>\n",
       "      <td>66.2</td>\n",
       "      <td>54.3</td>\n",
       "      <td>2337</td>\n",
       "      <td>2</td>\n",
       "      <td>2</td>\n",
       "      <td>109</td>\n",
       "      <td>5</td>\n",
       "      <td>3.19</td>\n",
       "      <td>3.40</td>\n",
       "      <td>10.0</td>\n",
       "      <td>102</td>\n",
       "      <td>5500</td>\n",
       "      <td>24</td>\n",
       "      <td>30</td>\n",
       "      <td>13950</td>\n",
       "    </tr>\n",
       "    <tr>\n",
       "      <th>4</th>\n",
       "      <td>2</td>\n",
       "      <td>164</td>\n",
       "      <td>1</td>\n",
       "      <td>1</td>\n",
       "      <td>0</td>\n",
       "      <td>0</td>\n",
       "      <td>3</td>\n",
       "      <td>0</td>\n",
       "      <td>0</td>\n",
       "      <td>99.4</td>\n",
       "      <td>176.6</td>\n",
       "      <td>66.4</td>\n",
       "      <td>54.3</td>\n",
       "      <td>2824</td>\n",
       "      <td>2</td>\n",
       "      <td>1</td>\n",
       "      <td>136</td>\n",
       "      <td>5</td>\n",
       "      <td>3.19</td>\n",
       "      <td>3.40</td>\n",
       "      <td>8.0</td>\n",
       "      <td>115</td>\n",
       "      <td>5500</td>\n",
       "      <td>18</td>\n",
       "      <td>22</td>\n",
       "      <td>17450</td>\n",
       "    </tr>\n",
       "  </tbody>\n",
       "</table>\n",
       "</div>"
      ],
      "text/plain": [
       "   symboling  normalized_losses  make  fuel_type  aspiration  number_of_doors  \\\n",
       "0          3                168     0          1           0                1   \n",
       "1          3                168     0          1           0                1   \n",
       "2          1                168     0          1           0                1   \n",
       "3          2                164     1          1           0                0   \n",
       "4          2                164     1          1           0                0   \n",
       "\n",
       "   body_style  drive_wheels  engine_location  wheel_base  length  width  \\\n",
       "0           0             2                0        88.6   168.8   64.1   \n",
       "1           0             2                0        88.6   168.8   64.1   \n",
       "2           2             2                0        94.5   171.2   65.5   \n",
       "3           3             1                0        99.8   176.6   66.2   \n",
       "4           3             0                0        99.4   176.6   66.4   \n",
       "\n",
       "   height  curb_weight  engine_type  number_of_cylinders  engine_size  \\\n",
       "0    48.8         2548            0                    2          130   \n",
       "1    48.8         2548            0                    2          130   \n",
       "2    52.4         2823            4                    3          152   \n",
       "3    54.3         2337            2                    2          109   \n",
       "4    54.3         2824            2                    1          136   \n",
       "\n",
       "   fuel_system  bore  stroke  compression_ratio  horsepower  peak_rpm  \\\n",
       "0            5  3.47    2.68                9.0         111      5000   \n",
       "1            5  3.47    2.68                9.0         111      5000   \n",
       "2            5  2.68    3.47                9.0         154      5000   \n",
       "3            5  3.19    3.40               10.0         102      5500   \n",
       "4            5  3.19    3.40                8.0         115      5500   \n",
       "\n",
       "   city_mpg  highway_mpg  price  \n",
       "0        21           27  13495  \n",
       "1        21           27  16500  \n",
       "2        19           26  16500  \n",
       "3        24           30  13950  \n",
       "4        18           22  17450  "
      ]
     },
     "execution_count": 7,
     "metadata": {},
     "output_type": "execute_result"
    }
   ],
   "source": [
    "car_data.head()"
   ]
  },
  {
   "cell_type": "markdown",
   "metadata": {},
   "source": [
    "# Scatterplot "
   ]
  },
  {
   "cell_type": "code",
   "execution_count": 8,
   "metadata": {},
   "outputs": [
    {
     "data": {
      "text/plain": [
       "<seaborn.axisgrid.PairGrid at 0x1d342122e48>"
      ]
     },
     "execution_count": 8,
     "metadata": {},
     "output_type": "execute_result"
    },
    {
     "data": {
      "image/png": "[encoded data removed]",
      "text/plain": [
       "<matplotlib.figure.Figure at 0x1d342122f28>"
      ]
     },
     "metadata": {},
     "output_type": "display_data"
    }
   ],
   "source": [
    "sns.pairplot(car_data, x_vars=['symboling','normalized_losses','make','curb_weight','engine_size','compression_ratio','horsepower','peak_rpm','city_mpg'], y_vars='price', size=7, aspect=0.7, kind='reg')"
   ]
  },
  {
   "cell_type": "markdown",
   "metadata": {},
   "source": [
    "# Model Buliding \n",
    "Checking for VIF variables, Linear Regression,\n",
    "Training and Testing the data"
   ]
  },
  {
   "cell_type": "code",
   "execution_count": 9,
   "metadata": {
    "collapsed": true
   },
   "outputs": [],
   "source": [
    "import statsmodels.formula.api as sm\n",
    "\n",
    "def vif_cal(input_data, dependent_col):\n",
    "    x_vars=input_data.drop([dependent_col], axis=1)\n",
    "    xvar_names=x_vars.columns\n",
    "    for i in range(0,xvar_names.shape[0]):\n",
    "        y=x_vars[xvar_names[i]] \n",
    "        x=x_vars[xvar_names.drop(xvar_names[i])]\n",
    "        rsq=sm.ols(formula=\"y~x\", data=x_vars).fit().rsquared  \n",
    "        vif=round(1/(1-rsq),2)\n",
    "        print (xvar_names[i], \" VIF = \" , vif)"
   ]
  },
  {
   "cell_type": "code",
   "execution_count": 10,
   "metadata": {},
   "outputs": [
    {
     "name": "stdout",
     "output_type": "stream",
     "text": [
      "symboling  VIF =  3.47\n",
      "normalized_losses  VIF =  2.36\n",
      "make  VIF =  1.59\n",
      "fuel_type  VIF =  112.56\n",
      "aspiration  VIF =  3.97\n",
      "number_of_doors  VIF =  2.96\n",
      "body_style  VIF =  2.97\n",
      "drive_wheels  VIF =  3.0\n",
      "engine_location  VIF =  1.89\n",
      "wheel_base  VIF =  11.33\n",
      "length  VIF =  12.81\n",
      "width  VIF =  8.54\n",
      "height  VIF =  3.31\n",
      "curb_weight  VIF =  19.35\n",
      "engine_type  VIF =  1.75\n",
      "number_of_cylinders  VIF =  2.91\n",
      "engine_size  VIF =  18.63\n",
      "fuel_system  VIF =  2.74\n",
      "bore  VIF =  2.55\n",
      "stroke  VIF =  1.68\n",
      "compression_ratio  VIF =  103.85\n",
      "horsepower  VIF =  21.95\n",
      "peak_rpm  VIF =  2.88\n",
      "city_mpg  VIF =  32.25\n",
      "highway_mpg  VIF =  28.33\n"
     ]
    }
   ],
   "source": [
    "vif_cal(input_data=car_data, dependent_col=\"price\")"
   ]
  },
  {
   "cell_type": "code",
   "execution_count": 11,
   "metadata": {
    "scrolled": true
   },
   "outputs": [
    {
     "name": "stdout",
     "output_type": "stream",
     "text": [
      "horsepower  VIF =  2.2\n",
      "make  VIF =  1.03\n",
      "wheel_base  VIF =  3.28\n",
      "fuel_type  VIF =  1.6\n",
      "aspiration  VIF =  1.38\n",
      "width  VIF =  4.71\n"
     ]
    }
   ],
   "source": [
    "feature_cols4 = ['horsepower','make','wheel_base','fuel_type','aspiration','width','price']\n",
    "X4 = car_data[feature_cols4]\n",
    "\n",
    "vif_cal(input_data = X4 ,dependent_col = \"price\")"
   ]
  },
  {
   "cell_type": "code",
   "execution_count": 12,
   "metadata": {},
   "outputs": [
    {
     "name": "stdout",
     "output_type": "stream",
     "text": [
      "<class 'pandas.core.frame.DataFrame'>\n",
      "(201, 11)\n",
      "<class 'pandas.core.series.Series'>\n",
      "(201,)\n"
     ]
    }
   ],
   "source": [
    "feature_cols = ['normalized_losses','number_of_doors','make','engine_location','wheel_base','number_of_cylinders','engine_size','stroke','compression_ratio','horsepower','peak_rpm']\n",
    "X = car_data[feature_cols]\n",
    "print(type(X))\n",
    "print(X.shape)\n",
    "\n",
    "Y = car_data['price']\n",
    "print(type(Y))\n",
    "print(Y.shape)"
   ]
  },
  {
   "cell_type": "code",
   "execution_count": 13,
   "metadata": {},
   "outputs": [
    {
     "name": "stdout",
     "output_type": "stream",
     "text": [
      "(150, 11)\n",
      "(51, 11)\n",
      "(150,)\n",
      "(51,)\n"
     ]
    },
    {
     "name": "stderr",
     "output_type": "stream",
     "text": [
      "C:\\Program Files (x86)\\Microsoft Visual Studio\\Shared\\Anaconda3_64\\lib\\site-packages\\sklearn\\cross_validation.py:41: DeprecationWarning: This module was deprecated in version 0.18 in favor of the model_selection module into which all the refactored classes and functions are moved. Also note that the interface of the new CV iterators are different from that of this module. This module will be removed in 0.20.\n",
      "  \"This module will be removed in 0.20.\", DeprecationWarning)\n"
     ]
    }
   ],
   "source": [
    "from sklearn.cross_validation import train_test_split\n",
    "X_train, X_test, Y_train, Y_test = train_test_split(X, Y, random_state=1)\n",
    "print(X_train.shape)\n",
    "print(X_test.shape)\n",
    "print(Y_train.shape)\n",
    "print(Y_test.shape)"
   ]
  },
  {
   "cell_type": "code",
   "execution_count": 14,
   "metadata": {},
   "outputs": [
    {
     "data": {
      "text/plain": [
       "LinearRegression(copy_X=True, fit_intercept=True, n_jobs=1, normalize=False)"
      ]
     },
     "execution_count": 14,
     "metadata": {},
     "output_type": "execute_result"
    }
   ],
   "source": [
    "reg = LinearRegression()\n",
    "reg.fit(X_train,Y_train)"
   ]
  },
  {
   "cell_type": "code",
   "execution_count": 15,
   "metadata": {},
   "outputs": [
    {
     "name": "stdout",
     "output_type": "stream",
     "text": [
      "-37328.4111244\n",
      "[ -3.49504644e+00   6.78272867e+02  -1.99311909e+02   1.18732862e+04\n",
      "   3.70725552e+02  -4.05526367e+00   9.45434651e+01  -2.31621055e+03\n",
      "   1.48183953e+02   5.06200188e+01   1.02773091e+00]\n"
     ]
    }
   ],
   "source": [
    "print(reg.intercept_)\n",
    "print(reg.coef_)"
   ]
  },
  {
   "cell_type": "code",
   "execution_count": 16,
   "metadata": {},
   "outputs": [
    {
     "data": {
      "text/plain": [
       "[('normalized_losses', -3.4950464425858883),\n",
       " ('number_of_doors', 678.27286709110604),\n",
       " ('make', -199.31190852432863),\n",
       " ('engine_location', 11873.286234894256),\n",
       " ('wheel_base', 370.72555217490998),\n",
       " ('number_of_cylinders', -4.0552636677921692),\n",
       " ('engine_size', 94.543465053157433),\n",
       " ('stroke', -2316.2105460421722),\n",
       " ('compression_ratio', 148.183953148782),\n",
       " ('horsepower', 50.620018798522082),\n",
       " ('peak_rpm', 1.0277309124264027)]"
      ]
     },
     "execution_count": 16,
     "metadata": {},
     "output_type": "execute_result"
    }
   ],
   "source": [
    "list(zip(feature_cols, reg.coef_))"
   ]
  },
  {
   "cell_type": "markdown",
   "metadata": {},
   "source": [
    "# Making Predictions "
   ]
  },
  {
   "cell_type": "code",
   "execution_count": 17,
   "metadata": {
    "collapsed": true
   },
   "outputs": [],
   "source": [
    "Y_pred = reg.predict(X_test)"
   ]
  },
  {
   "cell_type": "code",
   "execution_count": 18,
   "metadata": {
    "scrolled": true
   },
   "outputs": [
    {
     "name": "stdout",
     "output_type": "stream",
     "text": [
      "2922.48852322\n"
     ]
    }
   ],
   "source": [
    "from sklearn import metrics\n",
    "print(np.sqrt(metrics.mean_squared_error(Y_test, Y_pred)))"
   ]
  },
  {
   "cell_type": "code",
   "execution_count": 19,
   "metadata": {},
   "outputs": [
    {
     "name": "stdout",
     "output_type": "stream",
     "text": [
      "-37328.4111244\n",
      "[ -3.49504644e+00   6.78272867e+02  -1.99311909e+02   1.18732862e+04\n",
      "   3.70725552e+02  -4.05526367e+00   9.45434651e+01  -2.31621055e+03\n",
      "   1.48183953e+02   5.06200188e+01   1.02773091e+00]\n",
      "3141.12809934\n"
     ]
    }
   ],
   "source": [
    "feature_cols = ['horsepower','make','wheel_base','number_of_cylinders','fuel_type','aspiration','drive_wheels','engine_location','engine_type','length','width']\n",
    "#'wheel_base','number_of_cylinders','fuel_type','aspiration','drive_wheels','engine_location','engine_type','length','width'\n",
    "# use the list to select a subset of the original DataFrame\n",
    "X = car_data[feature_cols]\n",
    "\n",
    "# select a Series from the DataFrame\n",
    "Y = car_data.price\n",
    "\n",
    "# split into training and testing sets\n",
    "X_train, X_test, Y_train, Y_test = train_test_split(X, Y, random_state=1,test_size = 0.2)\n",
    "print(reg.intercept_)\n",
    "print(reg.coef_)\n",
    "\n",
    "# fit the model to the training data (learn the coefficients)\n",
    "model=reg.fit(X_train, Y_train)\n",
    "\n",
    "# make predictions on the testing set\n",
    "Y_pred = reg.predict(X_test)\n",
    "\n",
    "# compute the RMSE of our predictions\n",
    "\n",
    "print(np.sqrt(metrics.mean_squared_error(Y_test, Y_pred)))"
   ]
  },
  {
   "cell_type": "code",
   "execution_count": 20,
   "metadata": {
    "scrolled": false
   },
   "outputs": [
    {
     "data": {
      "text/plain": [
       "array([ 11463.31622664,   5622.67919038,  11477.12717092,   9208.94999161,\n",
       "        14463.4890052 ,   4368.66749699,  16166.14270312,  10281.45493329,\n",
       "        17249.35821271,   8102.46028418,  11466.58701522,   9274.69510495,\n",
       "        14463.4890052 ,  17309.16570229,   8479.88717953,  16059.71298878,\n",
       "         3987.13795462,  16527.6162797 ,   6390.06024005,   8500.08882283,\n",
       "        11133.37469089,   6583.09476572,  30411.73501811,  15793.84631087,\n",
       "         6307.37271459,  27324.02422183,  14463.4890052 ,   6753.71549231,\n",
       "        11466.58701522,   6410.06049637,  16167.7997256 ,  13252.56303599,\n",
       "        13127.37477524,   6390.06024005,  19405.75692485,  15061.45224133,\n",
       "        10739.19267833,   9251.16581193,  20411.70212564,  27040.50922744,\n",
       "         8595.10485102])"
      ]
     },
     "execution_count": 20,
     "metadata": {},
     "output_type": "execute_result"
    }
   ],
   "source": [
    "Y_pred"
   ]
  },
  {
   "cell_type": "code",
   "execution_count": 21,
   "metadata": {},
   "outputs": [
    {
     "data": {
      "text/plain": [
       "array([ 16850.16626963])"
      ]
     },
     "execution_count": 21,
     "metadata": {},
     "output_type": "execute_result"
    }
   ],
   "source": [
    "## try predicting manually\n",
    "\n",
    "reg.predict([[111,0,88.6,0,0,0,0,0,0,168.8,64.0]])"
   ]
  },
  {
   "cell_type": "code",
   "execution_count": 22,
   "metadata": {},
   "outputs": [
    {
     "name": "stdout",
     "output_type": "stream",
     "text": [
      "Accuracy Score =  0.813821367411\n"
     ]
    },
    {
     "data": {
      "image/png": "[encoded data removed]",
      "text/plain": [
       "<matplotlib.figure.Figure at 0x1d343c1bb70>"
      ]
     },
     "metadata": {},
     "output_type": "display_data"
    }
   ],
   "source": [
    "plt.scatter(Y_test,Y_pred)\n",
    "#plt.xlabel(“True Values”)\n",
    "#plt.ylabel(“Predictions”)\n",
    "print (\"Accuracy Score = \" , model.score(X_test, Y_test))"
   ]
  },
  {
   "cell_type": "markdown",
   "metadata": {},
   "source": [
    "# Making Prediction_2"
   ]
  },
  {
   "cell_type": "code",
   "execution_count": 23,
   "metadata": {},
   "outputs": [
    {
     "name": "stdout",
     "output_type": "stream",
     "text": [
      "-49075.5568335\n",
      "[  1.32933339e+02  -1.88655060e+02   2.80605139e+02  -1.49402543e+03\n",
      "  -4.15183230e+03  -3.26194673e+03   1.28674788e+03   1.06349140e+04\n",
      "   8.39433392e+02   4.08168496e+00   4.00304981e+02]\n",
      "3150.22586666\n"
     ]
    }
   ],
   "source": [
    "feature_cols5 = ['horsepower','make','wheel_base','fuel_type','aspiration','width']\n",
    "#'wheel_base','number_of_cylinders','fuel_type','aspiration','drive_wheels','engine_location','engine_type','length','width'\n",
    "# use the list to select a subset of the original DataFrame\n",
    "X5 = car_data[feature_cols5]\n",
    "\n",
    "# select a Series from the DataFrame\n",
    "Y5 = car_data.price\n",
    "\n",
    "# split into training and testing sets\n",
    "X5_train, X5_test, Y5_train, Y5_test = train_test_split(X5, Y5, random_state=1,test_size = 0.2)\n",
    "print(reg.intercept_)\n",
    "print(reg.coef_)\n",
    "\n",
    "# fit the model to the training data (learn the coefficients)\n",
    "model5=reg.fit(X5_train, Y5_train)\n",
    "\n",
    "# make predictions on the testing set\n",
    "Y5_pred = reg.predict(X5_test)\n",
    "\n",
    "# compute the RMSE of our predictions\n",
    "\n",
    "print(np.sqrt(metrics.mean_squared_error(Y5_test, Y5_pred)))"
   ]
  },
  {
   "cell_type": "code",
   "execution_count": 24,
   "metadata": {},
   "outputs": [
    {
     "name": "stdout",
     "output_type": "stream",
     "text": [
      "Accuracy Score: 0.812741333264\n"
     ]
    },
    {
     "data": {
      "image/png": "[encoded data removed]",
      "text/plain": [
       "<matplotlib.figure.Figure at 0x1d343d882e8>"
      ]
     },
     "metadata": {},
     "output_type": "display_data"
    }
   ],
   "source": [
    "plt.scatter(Y5_test,Y5_pred)\n",
    "plt.xlabel(\"True Values\")\n",
    "plt.ylabel(\"Predictions\")\n",
    "print (\"Accuracy Score:\" , model5.score(X5_test, Y5_test))"
   ]
  },
  {
   "cell_type": "markdown",
   "metadata": {},
   "source": [
    "# Model Summary\n",
    "Finding the p-values, R-squared, Ajd. R-squared and F-Values.\n",
    "Also trying to calulate VIF among the variables."
   ]
  },
  {
   "cell_type": "code",
   "execution_count": 25,
   "metadata": {
    "scrolled": true
   },
   "outputs": [
    {
     "name": "stderr",
     "output_type": "stream",
     "text": [
      "C:\\Program Files (x86)\\Microsoft Visual Studio\\Shared\\Anaconda3_64\\lib\\site-packages\\statsmodels\\compat\\pandas.py:56: FutureWarning: The pandas.core.datetools module is deprecated and will be removed in a future version. Please use the pandas.tseries module instead.\n",
      "  from pandas.core import datetools\n"
     ]
    },
    {
     "data": {
      "text/plain": [
       "horsepower              199.775553\n",
       "number_of_cylinders   -1811.194767\n",
       "fuel_type             -9152.765236\n",
       "aspiration            -4770.771809\n",
       "width                    84.498335\n",
       "dtype: float64"
      ]
     },
     "execution_count": 25,
     "metadata": {},
     "output_type": "execute_result"
    }
   ],
   "source": [
    "import statsmodels.api as smf\n",
    "feature_cols2 = ['horsepower','number_of_cylinders','fuel_type','aspiration','width']\n",
    "X2 = car_data[feature_cols2]\n",
    "Y2 = car_data['price']\n",
    "#lm = smf.ols(formula = 'price ~ highway_mpg',data = car_data).fit()\n",
    "lm2 = smf.OLS(Y2,X2).fit()\n",
    "lm2.params"
   ]
  },
  {
   "cell_type": "code",
   "execution_count": 26,
   "metadata": {},
   "outputs": [
    {
     "data": {
      "text/plain": [
       "horsepower             2.240183e-61\n",
       "number_of_cylinders    4.135655e-07\n",
       "fuel_type              4.154036e-17\n",
       "aspiration             2.468468e-08\n",
       "width                  1.039467e-05\n",
       "dtype: float64"
      ]
     },
     "execution_count": 26,
     "metadata": {},
     "output_type": "execute_result"
    }
   ],
   "source": [
    "lm2.pvalues"
   ]
  },
  {
   "cell_type": "code",
   "execution_count": 27,
   "metadata": {
    "scrolled": false
   },
   "outputs": [
    {
     "data": {
      "text/html": [
       "<table class=\"simpletable\">\n",
       "<caption>OLS Regression Results</caption>\n",
       "<tr>\n",
       "  <th>Dep. Variable:</th>          <td>price</td>      <th>  R-squared:         </th> <td>   0.942</td> \n",
       "</tr>\n",
       "<tr>\n",
       "  <th>Model:</th>                   <td>OLS</td>       <th>  Adj. R-squared:    </th> <td>   0.940</td> \n",
       "</tr>\n",
       "<tr>\n",
       "  <th>Method:</th>             <td>Least Squares</td>  <th>  F-statistic:       </th> <td>   634.8</td> \n",
       "</tr>\n",
       "<tr>\n",
       "  <th>Date:</th>             <td>Wed, 06 Jun 2018</td> <th>  Prob (F-statistic):</th> <td>5.87e-119</td>\n",
       "</tr>\n",
       "<tr>\n",
       "  <th>Time:</th>                 <td>11:32:15</td>     <th>  Log-Likelihood:    </th> <td> -1937.4</td> \n",
       "</tr>\n",
       "<tr>\n",
       "  <th>No. Observations:</th>      <td>   201</td>      <th>  AIC:               </th> <td>   3885.</td> \n",
       "</tr>\n",
       "<tr>\n",
       "  <th>Df Residuals:</th>          <td>   196</td>      <th>  BIC:               </th> <td>   3901.</td> \n",
       "</tr>\n",
       "<tr>\n",
       "  <th>Df Model:</th>              <td>     5</td>      <th>                     </th>     <td> </td>    \n",
       "</tr>\n",
       "<tr>\n",
       "  <th>Covariance Type:</th>      <td>nonrobust</td>    <th>                     </th>     <td> </td>    \n",
       "</tr>\n",
       "</table>\n",
       "<table class=\"simpletable\">\n",
       "<tr>\n",
       "           <td></td>              <th>coef</th>     <th>std err</th>      <th>t</th>      <th>P>|t|</th>  <th>[0.025</th>    <th>0.975]</th>  \n",
       "</tr>\n",
       "<tr>\n",
       "  <th>horsepower</th>          <td>  199.7756</td> <td>    8.179</td> <td>   24.425</td> <td> 0.000</td> <td>  183.645</td> <td>  215.906</td>\n",
       "</tr>\n",
       "<tr>\n",
       "  <th>number_of_cylinders</th> <td>-1811.1948</td> <td>  345.664</td> <td>   -5.240</td> <td> 0.000</td> <td>-2492.893</td> <td>-1129.496</td>\n",
       "</tr>\n",
       "<tr>\n",
       "  <th>fuel_type</th>           <td>-9152.7652</td> <td>  990.499</td> <td>   -9.241</td> <td> 0.000</td> <td>-1.11e+04</td> <td>-7199.361</td>\n",
       "</tr>\n",
       "<tr>\n",
       "  <th>aspiration</th>          <td>-4770.7718</td> <td>  820.857</td> <td>   -5.812</td> <td> 0.000</td> <td>-6389.618</td> <td>-3151.925</td>\n",
       "</tr>\n",
       "<tr>\n",
       "  <th>width</th>               <td>   84.4983</td> <td>   18.668</td> <td>    4.526</td> <td> 0.000</td> <td>   47.683</td> <td>  121.314</td>\n",
       "</tr>\n",
       "</table>\n",
       "<table class=\"simpletable\">\n",
       "<tr>\n",
       "  <th>Omnibus:</th>       <td>19.034</td> <th>  Durbin-Watson:     </th> <td>   0.770</td>\n",
       "</tr>\n",
       "<tr>\n",
       "  <th>Prob(Omnibus):</th> <td> 0.000</td> <th>  Jarque-Bera (JB):  </th> <td>  26.328</td>\n",
       "</tr>\n",
       "<tr>\n",
       "  <th>Skew:</th>          <td> 0.600</td> <th>  Prob(JB):          </th> <td>1.92e-06</td>\n",
       "</tr>\n",
       "<tr>\n",
       "  <th>Kurtosis:</th>      <td> 4.305</td> <th>  Cond. No.          </th> <td>    530.</td>\n",
       "</tr>\n",
       "</table>"
      ],
      "text/plain": [
       "<class 'statsmodels.iolib.summary.Summary'>\n",
       "\"\"\"\n",
       "                            OLS Regression Results                            \n",
       "==============================================================================\n",
       "Dep. Variable:                  price   R-squared:                       0.942\n",
       "Model:                            OLS   Adj. R-squared:                  0.940\n",
       "Method:                 Least Squares   F-statistic:                     634.8\n",
       "Date:                Wed, 06 Jun 2018   Prob (F-statistic):          5.87e-119\n",
       "Time:                        11:32:15   Log-Likelihood:                -1937.4\n",
       "No. Observations:                 201   AIC:                             3885.\n",
       "Df Residuals:                     196   BIC:                             3901.\n",
       "Df Model:                           5                                         \n",
       "Covariance Type:            nonrobust                                         \n",
       "=======================================================================================\n",
       "                          coef    std err          t      P>|t|      [0.025      0.975]\n",
       "---------------------------------------------------------------------------------------\n",
       "horsepower            199.7756      8.179     24.425      0.000     183.645     215.906\n",
       "number_of_cylinders -1811.1948    345.664     -5.240      0.000   -2492.893   -1129.496\n",
       "fuel_type           -9152.7652    990.499     -9.241      0.000   -1.11e+04   -7199.361\n",
       "aspiration          -4770.7718    820.857     -5.812      0.000   -6389.618   -3151.925\n",
       "width                  84.4983     18.668      4.526      0.000      47.683     121.314\n",
       "==============================================================================\n",
       "Omnibus:                       19.034   Durbin-Watson:                   0.770\n",
       "Prob(Omnibus):                  0.000   Jarque-Bera (JB):               26.328\n",
       "Skew:                           0.600   Prob(JB):                     1.92e-06\n",
       "Kurtosis:                       4.305   Cond. No.                         530.\n",
       "==============================================================================\n",
       "\n",
       "Warnings:\n",
       "[1] Standard Errors assume that the covariance matrix of the errors is correctly specified.\n",
       "\"\"\""
      ]
     },
     "execution_count": 27,
     "metadata": {},
     "output_type": "execute_result"
    }
   ],
   "source": [
    "lm2.summary()"
   ]
  },
  {
   "cell_type": "code",
   "execution_count": 28,
   "metadata": {
    "collapsed": true
   },
   "outputs": [],
   "source": [
    "feature_cols1 = ['horsepower','make','wheel_base','number_of_cylinders','fuel_type','aspiration','drive_wheels','engine_location','engine_type','length','width']\n",
    "X1 = car_data[feature_cols1]\n",
    "Y1 = car_data['price']"
   ]
  },
  {
   "cell_type": "code",
   "execution_count": 29,
   "metadata": {},
   "outputs": [
    {
     "data": {
      "text/plain": [
       "horsepower             2.019035e-31\n",
       "make                   5.415515e-08\n",
       "wheel_base             5.449107e-04\n",
       "number_of_cylinders    1.632109e-08\n",
       "fuel_type              1.149467e-10\n",
       "aspiration             7.591113e-05\n",
       "drive_wheels           2.252433e-02\n",
       "engine_location        2.066436e-04\n",
       "engine_type            6.330715e-04\n",
       "length                 3.239474e-01\n",
       "width                  4.880739e-06\n",
       "dtype: float64"
      ]
     },
     "execution_count": 29,
     "metadata": {},
     "output_type": "execute_result"
    }
   ],
   "source": [
    "lm1 = smf.OLS(Y1,X1).fit()\n",
    "lm1.params\n",
    "lm1.pvalues"
   ]
  },
  {
   "cell_type": "code",
   "execution_count": 30,
   "metadata": {},
   "outputs": [
    {
     "data": {
      "text/html": [
       "<table class=\"simpletable\">\n",
       "<caption>OLS Regression Results</caption>\n",
       "<tr>\n",
       "  <th>Dep. Variable:</th>          <td>price</td>      <th>  R-squared:         </th> <td>   0.958</td> \n",
       "</tr>\n",
       "<tr>\n",
       "  <th>Model:</th>                   <td>OLS</td>       <th>  Adj. R-squared:    </th> <td>   0.956</td> \n",
       "</tr>\n",
       "<tr>\n",
       "  <th>Method:</th>             <td>Least Squares</td>  <th>  F-statistic:       </th> <td>   397.9</td> \n",
       "</tr>\n",
       "<tr>\n",
       "  <th>Date:</th>             <td>Wed, 06 Jun 2018</td> <th>  Prob (F-statistic):</th> <td>9.38e-125</td>\n",
       "</tr>\n",
       "<tr>\n",
       "  <th>Time:</th>                 <td>11:32:15</td>     <th>  Log-Likelihood:    </th> <td> -1903.8</td> \n",
       "</tr>\n",
       "<tr>\n",
       "  <th>No. Observations:</th>      <td>   201</td>      <th>  AIC:               </th> <td>   3830.</td> \n",
       "</tr>\n",
       "<tr>\n",
       "  <th>Df Residuals:</th>          <td>   190</td>      <th>  BIC:               </th> <td>   3866.</td> \n",
       "</tr>\n",
       "<tr>\n",
       "  <th>Df Model:</th>              <td>    11</td>      <th>                     </th>     <td> </td>    \n",
       "</tr>\n",
       "<tr>\n",
       "  <th>Covariance Type:</th>      <td>nonrobust</td>    <th>                     </th>     <td> </td>    \n",
       "</tr>\n",
       "</table>\n",
       "<table class=\"simpletable\">\n",
       "<tr>\n",
       "           <td></td>              <th>coef</th>     <th>std err</th>      <th>t</th>      <th>P>|t|</th>  <th>[0.025</th>    <th>0.975]</th>  \n",
       "</tr>\n",
       "<tr>\n",
       "  <th>horsepower</th>          <td>  159.0187</td> <td>   11.263</td> <td>   14.119</td> <td> 0.000</td> <td>  136.803</td> <td>  181.235</td>\n",
       "</tr>\n",
       "<tr>\n",
       "  <th>make</th>                <td> -216.7673</td> <td>   38.274</td> <td>   -5.664</td> <td> 0.000</td> <td> -292.264</td> <td> -141.270</td>\n",
       "</tr>\n",
       "<tr>\n",
       "  <th>wheel_base</th>          <td>  332.3589</td> <td>   94.487</td> <td>    3.518</td> <td> 0.001</td> <td>  145.981</td> <td>  518.737</td>\n",
       "</tr>\n",
       "<tr>\n",
       "  <th>number_of_cylinders</th> <td>-1892.8741</td> <td>  320.781</td> <td>   -5.901</td> <td> 0.000</td> <td>-2525.625</td> <td>-1260.124</td>\n",
       "</tr>\n",
       "<tr>\n",
       "  <th>fuel_type</th>           <td>-6555.4985</td> <td>  960.561</td> <td>   -6.825</td> <td> 0.000</td> <td>-8450.232</td> <td>-4660.765</td>\n",
       "</tr>\n",
       "<tr>\n",
       "  <th>aspiration</th>          <td>-3095.3682</td> <td>  765.158</td> <td>   -4.045</td> <td> 0.000</td> <td>-4604.664</td> <td>-1586.072</td>\n",
       "</tr>\n",
       "<tr>\n",
       "  <th>drive_wheels</th>        <td> 1330.8665</td> <td>  578.592</td> <td>    2.300</td> <td> 0.023</td> <td>  189.577</td> <td> 2472.156</td>\n",
       "</tr>\n",
       "<tr>\n",
       "  <th>engine_location</th>     <td> 8326.8182</td> <td> 2200.453</td> <td>    3.784</td> <td> 0.000</td> <td> 3986.362</td> <td> 1.27e+04</td>\n",
       "</tr>\n",
       "<tr>\n",
       "  <th>engine_type</th>         <td>  998.1954</td> <td>  287.259</td> <td>    3.475</td> <td> 0.001</td> <td>  431.569</td> <td> 1564.822</td>\n",
       "</tr>\n",
       "<tr>\n",
       "  <th>length</th>              <td>   49.8197</td> <td>   50.377</td> <td>    0.989</td> <td> 0.324</td> <td>  -49.550</td> <td>  149.189</td>\n",
       "</tr>\n",
       "<tr>\n",
       "  <th>width</th>               <td> -539.1856</td> <td>  114.603</td> <td>   -4.705</td> <td> 0.000</td> <td> -765.243</td> <td> -313.128</td>\n",
       "</tr>\n",
       "</table>\n",
       "<table class=\"simpletable\">\n",
       "<tr>\n",
       "  <th>Omnibus:</th>       <td>23.932</td> <th>  Durbin-Watson:     </th> <td>   1.076</td>\n",
       "</tr>\n",
       "<tr>\n",
       "  <th>Prob(Omnibus):</th> <td> 0.000</td> <th>  Jarque-Bera (JB):  </th> <td>  42.381</td>\n",
       "</tr>\n",
       "<tr>\n",
       "  <th>Skew:</th>          <td> 0.625</td> <th>  Prob(JB):          </th> <td>6.27e-10</td>\n",
       "</tr>\n",
       "<tr>\n",
       "  <th>Kurtosis:</th>      <td> 4.870</td> <th>  Cond. No.          </th> <td>2.30e+03</td>\n",
       "</tr>\n",
       "</table>"
      ],
      "text/plain": [
       "<class 'statsmodels.iolib.summary.Summary'>\n",
       "\"\"\"\n",
       "                            OLS Regression Results                            \n",
       "==============================================================================\n",
       "Dep. Variable:                  price   R-squared:                       0.958\n",
       "Model:                            OLS   Adj. R-squared:                  0.956\n",
       "Method:                 Least Squares   F-statistic:                     397.9\n",
       "Date:                Wed, 06 Jun 2018   Prob (F-statistic):          9.38e-125\n",
       "Time:                        11:32:15   Log-Likelihood:                -1903.8\n",
       "No. Observations:                 201   AIC:                             3830.\n",
       "Df Residuals:                     190   BIC:                             3866.\n",
       "Df Model:                          11                                         \n",
       "Covariance Type:            nonrobust                                         \n",
       "=======================================================================================\n",
       "                          coef    std err          t      P>|t|      [0.025      0.975]\n",
       "---------------------------------------------------------------------------------------\n",
       "horsepower            159.0187     11.263     14.119      0.000     136.803     181.235\n",
       "make                 -216.7673     38.274     -5.664      0.000    -292.264    -141.270\n",
       "wheel_base            332.3589     94.487      3.518      0.001     145.981     518.737\n",
       "number_of_cylinders -1892.8741    320.781     -5.901      0.000   -2525.625   -1260.124\n",
       "fuel_type           -6555.4985    960.561     -6.825      0.000   -8450.232   -4660.765\n",
       "aspiration          -3095.3682    765.158     -4.045      0.000   -4604.664   -1586.072\n",
       "drive_wheels         1330.8665    578.592      2.300      0.023     189.577    2472.156\n",
       "engine_location      8326.8182   2200.453      3.784      0.000    3986.362    1.27e+04\n",
       "engine_type           998.1954    287.259      3.475      0.001     431.569    1564.822\n",
       "length                 49.8197     50.377      0.989      0.324     -49.550     149.189\n",
       "width                -539.1856    114.603     -4.705      0.000    -765.243    -313.128\n",
       "==============================================================================\n",
       "Omnibus:                       23.932   Durbin-Watson:                   1.076\n",
       "Prob(Omnibus):                  0.000   Jarque-Bera (JB):               42.381\n",
       "Skew:                           0.625   Prob(JB):                     6.27e-10\n",
       "Kurtosis:                       4.870   Cond. No.                     2.30e+03\n",
       "==============================================================================\n",
       "\n",
       "Warnings:\n",
       "[1] Standard Errors assume that the covariance matrix of the errors is correctly specified.\n",
       "[2] The condition number is large, 2.3e+03. This might indicate that there are\n",
       "strong multicollinearity or other numerical problems.\n",
       "\"\"\""
      ]
     },
     "execution_count": 30,
     "metadata": {},
     "output_type": "execute_result"
    }
   ],
   "source": [
    "lm1.summary()"
   ]
  },
  {
   "cell_type": "code",
   "execution_count": 31,
   "metadata": {},
   "outputs": [
    {
     "data": {
      "text/html": [
       "<table class=\"simpletable\">\n",
       "<caption>OLS Regression Results</caption>\n",
       "<tr>\n",
       "  <th>Dep. Variable:</th>          <td>price</td>      <th>  R-squared:         </th> <td>   0.947</td> \n",
       "</tr>\n",
       "<tr>\n",
       "  <th>Model:</th>                   <td>OLS</td>       <th>  Adj. R-squared:    </th> <td>   0.945</td> \n",
       "</tr>\n",
       "<tr>\n",
       "  <th>Method:</th>             <td>Least Squares</td>  <th>  F-statistic:       </th> <td>   575.6</td> \n",
       "</tr>\n",
       "<tr>\n",
       "  <th>Date:</th>             <td>Wed, 06 Jun 2018</td> <th>  Prob (F-statistic):</th> <td>4.14e-121</td>\n",
       "</tr>\n",
       "<tr>\n",
       "  <th>Time:</th>                 <td>11:32:18</td>     <th>  Log-Likelihood:    </th> <td> -1929.0</td> \n",
       "</tr>\n",
       "<tr>\n",
       "  <th>No. Observations:</th>      <td>   201</td>      <th>  AIC:               </th> <td>   3870.</td> \n",
       "</tr>\n",
       "<tr>\n",
       "  <th>Df Residuals:</th>          <td>   195</td>      <th>  BIC:               </th> <td>   3890.</td> \n",
       "</tr>\n",
       "<tr>\n",
       "  <th>Df Model:</th>              <td>     6</td>      <th>                     </th>     <td> </td>    \n",
       "</tr>\n",
       "<tr>\n",
       "  <th>Covariance Type:</th>      <td>nonrobust</td>    <th>                     </th>     <td> </td>    \n",
       "</tr>\n",
       "</table>\n",
       "<table class=\"simpletable\">\n",
       "<tr>\n",
       "       <td></td>         <th>coef</th>     <th>std err</th>      <th>t</th>      <th>P>|t|</th>  <th>[0.025</th>    <th>0.975]</th>  \n",
       "</tr>\n",
       "<tr>\n",
       "  <th>horsepower</th> <td>  183.3848</td> <td>    7.786</td> <td>   23.553</td> <td> 0.000</td> <td>  168.029</td> <td>  198.740</td>\n",
       "</tr>\n",
       "<tr>\n",
       "  <th>make</th>       <td> -195.3183</td> <td>   41.298</td> <td>   -4.729</td> <td> 0.000</td> <td> -276.767</td> <td> -113.869</td>\n",
       "</tr>\n",
       "<tr>\n",
       "  <th>wheel_base</th> <td>  364.2305</td> <td>   68.673</td> <td>    5.304</td> <td> 0.000</td> <td>  228.794</td> <td>  499.667</td>\n",
       "</tr>\n",
       "<tr>\n",
       "  <th>fuel_type</th>  <td>-8019.5219</td> <td>  994.867</td> <td>   -8.061</td> <td> 0.000</td> <td>-9981.603</td> <td>-6057.440</td>\n",
       "</tr>\n",
       "<tr>\n",
       "  <th>aspiration</th> <td>-3837.4299</td> <td>  780.579</td> <td>   -4.916</td> <td> 0.000</td> <td>-5376.891</td> <td>-2297.969</td>\n",
       "</tr>\n",
       "<tr>\n",
       "  <th>width</th>      <td> -476.2200</td> <td>  106.804</td> <td>   -4.459</td> <td> 0.000</td> <td> -686.860</td> <td> -265.580</td>\n",
       "</tr>\n",
       "</table>\n",
       "<table class=\"simpletable\">\n",
       "<tr>\n",
       "  <th>Omnibus:</th>       <td>34.774</td> <th>  Durbin-Watson:     </th> <td>   0.960</td>\n",
       "</tr>\n",
       "<tr>\n",
       "  <th>Prob(Omnibus):</th> <td> 0.000</td> <th>  Jarque-Bera (JB):  </th> <td>  88.844</td>\n",
       "</tr>\n",
       "<tr>\n",
       "  <th>Skew:</th>          <td> 0.740</td> <th>  Prob(JB):          </th> <td>5.10e-20</td>\n",
       "</tr>\n",
       "<tr>\n",
       "  <th>Kurtosis:</th>      <td> 5.902</td> <th>  Cond. No.          </th> <td>    689.</td>\n",
       "</tr>\n",
       "</table>"
      ],
      "text/plain": [
       "<class 'statsmodels.iolib.summary.Summary'>\n",
       "\"\"\"\n",
       "                            OLS Regression Results                            \n",
       "==============================================================================\n",
       "Dep. Variable:                  price   R-squared:                       0.947\n",
       "Model:                            OLS   Adj. R-squared:                  0.945\n",
       "Method:                 Least Squares   F-statistic:                     575.6\n",
       "Date:                Wed, 06 Jun 2018   Prob (F-statistic):          4.14e-121\n",
       "Time:                        11:32:18   Log-Likelihood:                -1929.0\n",
       "No. Observations:                 201   AIC:                             3870.\n",
       "Df Residuals:                     195   BIC:                             3890.\n",
       "Df Model:                           6                                         \n",
       "Covariance Type:            nonrobust                                         \n",
       "==============================================================================\n",
       "                 coef    std err          t      P>|t|      [0.025      0.975]\n",
       "------------------------------------------------------------------------------\n",
       "horsepower   183.3848      7.786     23.553      0.000     168.029     198.740\n",
       "make        -195.3183     41.298     -4.729      0.000    -276.767    -113.869\n",
       "wheel_base   364.2305     68.673      5.304      0.000     228.794     499.667\n",
       "fuel_type  -8019.5219    994.867     -8.061      0.000   -9981.603   -6057.440\n",
       "aspiration -3837.4299    780.579     -4.916      0.000   -5376.891   -2297.969\n",
       "width       -476.2200    106.804     -4.459      0.000    -686.860    -265.580\n",
       "==============================================================================\n",
       "Omnibus:                       34.774   Durbin-Watson:                   0.960\n",
       "Prob(Omnibus):                  0.000   Jarque-Bera (JB):               88.844\n",
       "Skew:                           0.740   Prob(JB):                     5.10e-20\n",
       "Kurtosis:                       5.902   Cond. No.                         689.\n",
       "==============================================================================\n",
       "\n",
       "Warnings:\n",
       "[1] Standard Errors assume that the covariance matrix of the errors is correctly specified.\n",
       "\"\"\""
      ]
     },
     "execution_count": 31,
     "metadata": {},
     "output_type": "execute_result"
    }
   ],
   "source": [
    "lm5 = smf.OLS(Y5,X5).fit()\n",
    "lm5.params\n",
    "lm5.summary()"
   ]
  },
  {
   "cell_type": "code",
   "execution_count": 37,
   "metadata": {
    "collapsed": true
   },
   "outputs": [],
   "source": [
    "import statsmodels.api as sm\n",
    "\n",
    "def stepwise_selection(X, y, \n",
    "                       initial_list=[], \n",
    "                       threshold_in=0.01, \n",
    "                       threshold_out = 0.05, \n",
    "                       verbose=True):\n",
    "    \"\"\" Perform a forward-backward feature selection \n",
    "    based on p-value from statsmodels.api.OLS\n",
    "    Arguments:\n",
    "        X - pandas.DataFrame with candidate features\n",
    "        y - list-like with the target\n",
    "        initial_list - list of features to start with (column names of X)\n",
    "        threshold_in - include a feature if its p-value < threshold_in\n",
    "        threshold_out - exclude a feature if its p-value > threshold_out\n",
    "        verbose - whether to print the sequence of inclusions and exclusions\n",
    "    Returns: list of selected features \n",
    "    Always set threshold_in < threshold_out to avoid infinite looping.\n",
    "    See https://en.wikipedia.org/wiki/Stepwise_regression for the details\n",
    "    \"\"\"\n",
    "    included = list(initial_list)\n",
    "    while True:\n",
    "        changed=False\n",
    "        # forward step\n",
    "        excluded = list(set(X.columns)-set(included))\n",
    "        new_pval = pd.Series(index=excluded)\n",
    "        for new_column in excluded:\n",
    "            model = sm.OLS(y, sm.add_constant(pd.DataFrame(X[included+[new_column]]))).fit()\n",
    "            new_pval[new_column] = model.pvalues[new_column]\n",
    "        best_pval = new_pval.min()\n",
    "        if best_pval < threshold_in:\n",
    "            best_feature = new_pval.argmin()\n",
    "            included.append(best_feature)\n",
    "            changed=True\n",
    "            if verbose:\n",
    "                print('Add  {:30} with p-value {:.6}'.format(best_feature, best_pval))\n",
    "        \n",
    "        # backward step\n",
    "        model = sm.OLS(y, sm.add_constant(pd.DataFrame(X[included]))).fit()\n",
    "        # use all coefs except intercept\n",
    "        pvalues = model.pvalues.iloc[1:]\n",
    "        worst_pval = pvalues.max() # null if pvalues is empty\n",
    "        if worst_pval > threshold_out:\n",
    "            changed=True\n",
    "            worst_feature = pvalues.argmax()\n",
    "            included.remove(worst_feature)\n",
    "            if verbose:\n",
    "                print('Drop {:30} with p-value {:.6}'.format(worst_feature, worst_pval))\n",
    "        if not changed:\n",
    "            break\n",
    "    return included\n"
   ]
  },
  {
   "cell_type": "code",
   "execution_count": 38,
   "metadata": {},
   "outputs": [
    {
     "name": "stdout",
     "output_type": "stream",
     "text": [
      "Add  horsepower                     with p-value 3.58687e-48\n",
      "Add  width                          with p-value 3.75631e-17\n",
      "Add  engine_location                with p-value 5.9473e-08\n",
      "Add  make                           with p-value 5.01065e-06\n",
      "Add  wheel_base                     with p-value 2.64206e-05\n",
      "Add  fuel_type                      with p-value 0.00717599\n",
      "Add  aspiration                     with p-value 7.93279e-05\n"
     ]
    }
   ],
   "source": [
    "result = stepwise_selection(X,Y)"
   ]
  },
  {
   "cell_type": "code",
   "execution_count": 39,
   "metadata": {},
   "outputs": [
    {
     "name": "stdout",
     "output_type": "stream",
     "text": [
      "resulting features:\n",
      "['horsepower', 'width', 'engine_location', 'make', 'wheel_base', 'fuel_type', 'aspiration']\n"
     ]
    }
   ],
   "source": [
    "print('resulting features:')\n",
    "print(result)"
   ]
  },
  {
   "cell_type": "markdown",
   "metadata": {},
   "source": [
    "# Cross Validation "
   ]
  },
  {
   "cell_type": "code",
   "execution_count": 40,
   "metadata": {},
   "outputs": [
    {
     "name": "stdout",
     "output_type": "stream",
     "text": [
      "KFold(n_splits=2, random_state=1, shuffle=False)\n"
     ]
    },
    {
     "data": {
      "text/plain": [
       "KFold(n_splits=2, random_state=1, shuffle=False)"
      ]
     },
     "execution_count": 40,
     "metadata": {},
     "output_type": "execute_result"
    }
   ],
   "source": [
    "from sklearn.model_selection import KFold\n",
    "kf = KFold(n_splits=2,random_state = 1 )\n",
    "kf.get_n_splits(X)\n",
    "\n",
    "print(kf)\n",
    "KFold(n_splits=2, random_state=1, shuffle=False)"
   ]
  },
  {
   "cell_type": "code",
   "execution_count": 41,
   "metadata": {},
   "outputs": [
    {
     "name": "stdout",
     "output_type": "stream",
     "text": [
      "Cross-validated scores: [ 0.84661308  0.70591048  0.30844597]\n"
     ]
    }
   ],
   "source": [
    "from sklearn.cross_validation import cross_val_score, cross_val_predict\n",
    "from sklearn import metrics\n",
    "\n",
    "scores = cross_val_score(model5, X5, Y5, cv=3)\n",
    "print (\"Cross-validated scores:\", scores)"
   ]
  },
  {
   "cell_type": "code",
   "execution_count": 42,
   "metadata": {},
   "outputs": [
    {
     "name": "stdout",
     "output_type": "stream",
     "text": [
      "Cross-Predicted Accuracy: 0.738970407777\n"
     ]
    },
    {
     "data": {
      "image/png": "[encoded data removed]",
      "text/plain": [
       "<matplotlib.figure.Figure at 0x1d345cc1ba8>"
      ]
     },
     "metadata": {},
     "output_type": "display_data"
    }
   ],
   "source": [
    "predictions = cross_val_predict(model5, X5, Y5, cv=3)\n",
    "plt.scatter(Y5, predictions)\n",
    "accuracy = metrics.r2_score(Y, predictions)\n",
    "print (\"Cross-Predicted Accuracy:\", accuracy)"
   ]
  },
  {
   "cell_type": "code",
   "execution_count": null,
   "metadata": {
    "collapsed": true
   },
   "outputs": [],
   "source": []
  }
 ],
 "metadata": {
  "kernelspec": {
   "display_name": "Python 3",
   "language": "python",
   "name": "python3"
  },
  "language_info": {
   "codemirror_mode": {
    "name": "ipython",
    "version": 3
   },
   "file_extension": ".py",
   "mimetype": "text/x-python",
   "name": "python",
   "nbconvert_exporter": "python",
   "pygments_lexer": "ipython3",
   "version": "3.6.2"
  }
 },
 "nbformat": 4,
 "nbformat_minor": 2
}
