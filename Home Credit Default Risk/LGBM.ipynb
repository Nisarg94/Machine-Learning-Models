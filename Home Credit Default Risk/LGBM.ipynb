{
 "cells": [
  {
   "cell_type": "code",
   "execution_count": 8,
   "metadata": {
    "_uuid": "86d941977779b6e386db168ea510fb29f5923d5d",
    "collapsed": true
   },
   "outputs": [],
   "source": [
    "import pandas as pd\n",
    "import numpy as np\n",
    "\n",
    "from sklearn.metrics import roc_auc_score, precision_recall_curve, roc_curve, average_precision_score\n",
    "from sklearn.model_selection import StratifiedKFold\n",
    "from lightgbm import LGBMClassifier\n",
    "from datetime import datetime\n",
    "\n",
    "import matplotlib.pyplot as plt\n",
    "import seaborn as sns\n",
    "import gc"
   ]
  },
  {
   "cell_type": "code",
   "execution_count": 28,
   "metadata": {
    "_uuid": "6f77580629f0cd8f024e4676306f1ca453cc24a2",
    "collapsed": true
   },
   "outputs": [],
   "source": [
    "def build_model_input():\n",
    "    ## use the preprocessed clean dataset from other notebook.\n",
    "    data = pd.read_csv('data.csv')\n",
    "    test = pd.read_csv('test.csv')\n",
    "    y = pd.read_csv('target.csv')\n",
    "    ids = pd.read_csv('skids.csv')\n",
    "    print('Shapes : ', data.shape, test.shape, y.shape, ids.shape)\n",
    "    \n",
    "    return data, test, y, ids"
   ]
  },
  {
   "cell_type": "code",
   "execution_count": 29,
   "metadata": {
    "_cell_guid": "b1076dfc-b9ad-4769-8c92-a6c4dae69d19",
    "_uuid": "8f2839f25d086af736a60e9eeb907d3b93b6e0e5",
    "collapsed": true
   },
   "outputs": [],
   "source": [
    "def train_model(data_, test_, y_, folds_):\n",
    "\n",
    "    oof_preds = np.zeros(data_.shape[0])\n",
    "    sub_preds = np.zeros(test_.shape[0])\n",
    "\n",
    "    feature_importance_df = pd.DataFrame()\n",
    "\n",
    "    feats = [f for f in data_.columns if f not in ['SK_ID_CURR']]\n",
    "\n",
    "    for n_fold, (trn_idx, val_idx) in enumerate(folds_.split(data_, y_)):\n",
    "        trn_x, trn_y = data_[feats].iloc[trn_idx], y_.iloc[trn_idx]\n",
    "        val_x, val_y = data_[feats].iloc[val_idx], y_.iloc[val_idx]\n",
    "\n",
    "        # LightGBM parameters found by Bayesian optimization\n",
    "        clf = LGBMClassifier(\n",
    "            nthread=4,\n",
    "            n_estimators=10000,\n",
    "            learning_rate=0.03,\n",
    "            num_leaves=34,\n",
    "            colsample_bytree=0.9497036,\n",
    "            subsample=0.8715623,\n",
    "            max_depth=8,\n",
    "            reg_alpha=0.041545473,\n",
    "            reg_lambda=0.0735294,\n",
    "            min_split_gain=0.0222415,\n",
    "            min_child_weight=39.3259775,\n",
    "            silent=-1,\n",
    "            verbose=-1, )\n",
    "\n",
    "        clf.fit(\n",
    "            trn_x,\n",
    "            trn_y,\n",
    "            eval_set=[(trn_x, trn_y), (val_x, val_y)],\n",
    "            eval_metric='auc',\n",
    "            verbose=100,\n",
    "            early_stopping_rounds=100  #30\n",
    "        )\n",
    "\n",
    "        oof_preds[val_idx] = clf.predict_proba(val_x, num_iteration=clf.best_iteration_)[:, 1]\n",
    "        sub_preds += clf.predict_proba(test_[feats],\n",
    "            num_iteration=clf.best_iteration_)[:, 1] / folds_.n_splits\n",
    "\n",
    "        fold_importance_df = pd.DataFrame()\n",
    "        fold_importance_df[\"feature\"] = feats\n",
    "        fold_importance_df[\"importance\"] = clf.feature_importances_\n",
    "        fold_importance_df[\"fold\"] = n_fold + 1\n",
    "        feature_importance_df = pd.concat([feature_importance_df, fold_importance_df], axis=0)\n",
    "\n",
    "        print('Fold %2d AUC : %.6f' %\n",
    "              (n_fold + 1, roc_auc_score(val_y, oof_preds[val_idx])))\n",
    "        del clf, trn_x, trn_y, val_x, val_y\n",
    "        gc.collect()\n",
    "\n",
    "    print('Full AUC score %.6f' % roc_auc_score(y, oof_preds))\n",
    "\n",
    "    test_['TARGET'] = sub_preds\n",
    "\n",
    "    df_oof_preds = pd.DataFrame({'SK_ID_CURR':ids, 'TARGET':y, 'PREDICTION':oof_preds})\n",
    "    df_oof_preds = df_oof_preds[['SK_ID_CURR', 'TARGET', 'PREDICTION']]\n",
    "\n",
    "    return oof_preds, df_oof_preds, test_[['SK_ID_CURR', 'TARGET']], feature_importance_df, roc_auc_score(y, oof_preds)"
   ]
  },
  {
   "cell_type": "code",
   "execution_count": 30,
   "metadata": {
    "_uuid": "5fb6194a470b17d951bb3d85944a9424b592a1fa",
    "collapsed": true
   },
   "outputs": [],
   "source": [
    "def display_importances(feature_importance_df_):\n",
    "    # Plot feature importances\n",
    "    cols = feature_importance_df_[[\"feature\", \"importance\"]].groupby(\n",
    "        \"feature\").mean().sort_values(\n",
    "            by=\"importance\", ascending=False)[:50].index\n",
    "\n",
    "    best_features = feature_importance_df_.loc[\n",
    "        feature_importance_df_.feature.isin(cols)]\n",
    "\n",
    "    plt.figure(figsize=(8, 10))\n",
    "    sns.barplot(\n",
    "        x=\"importance\",\n",
    "        y=\"feature\",\n",
    "        data=best_features.sort_values(by=\"importance\", ascending=False))\n",
    "    plt.title('LightGBM Features (avg over folds)')\n",
    "    plt.tight_layout()\n",
    "    plt.savefig('lgbm_importances-01.png')"
   ]
  },
  {
   "cell_type": "code",
   "execution_count": 31,
   "metadata": {
    "_uuid": "b88ab01ba4be2178396b79e1152674df068d86fc",
    "collapsed": true
   },
   "outputs": [],
   "source": [
    "def display_roc_curve(y_, oof_preds_, folds_idx_):\n",
    "    # Plot ROC curves\n",
    "    plt.figure(figsize=(6, 6))\n",
    "    scores = []\n",
    "    roc_arr = []\n",
    "    for n_fold, (_, val_idx) in enumerate(folds_idx_):\n",
    "        # Plot the roc curve\n",
    "        fpr, tpr, thresholds = roc_curve(y_.iloc[val_idx], oof_preds_[val_idx])\n",
    "        score = roc_auc_score(y_.iloc[val_idx], oof_preds_[val_idx])\n",
    "        scores.append(score)\n",
    "        plt.plot(\n",
    "            fpr,\n",
    "            tpr,\n",
    "            lw=1,\n",
    "            alpha=0.3,\n",
    "            label='ROC fold %d (AUC = %0.4f)' % (n_fold + 1, score))\n",
    "        roc_arr.append(score)\n",
    "        \n",
    "    plt.plot(\n",
    "        [0, 1], [0, 1],\n",
    "        linestyle='--',\n",
    "        lw=2,\n",
    "        color='r',\n",
    "        label='Luck',\n",
    "        alpha=.8)\n",
    "    fpr, tpr, thresholds = roc_curve(y_, oof_preds_)\n",
    "    score = roc_auc_score(y_, oof_preds_)\n",
    "    plt.plot(\n",
    "        fpr,\n",
    "        tpr,\n",
    "        color='b',\n",
    "        label='Avg ROC (AUC = %0.4f $\\pm$ %0.4f)' % (score, np.std(scores)),\n",
    "        lw=2,\n",
    "        alpha=.8)\n",
    "\n",
    "    plt.xlim([-0.05, 1.05])\n",
    "    plt.ylim([-0.05, 1.05])\n",
    "    plt.xlabel('False Positive Rate')\n",
    "    plt.ylabel('True Positive Rate')\n",
    "    plt.title('LightGBM ROC Curve')\n",
    "    plt.legend(loc=\"lower right\")\n",
    "    plt.tight_layout()\n",
    "\n",
    "    plt.savefig('roc_curve-01.png')"
   ]
  },
  {
   "cell_type": "code",
   "execution_count": 32,
   "metadata": {
    "_uuid": "34057909a346484b2ee45da063885c2334e5ddba",
    "collapsed": true,
    "scrolled": true
   },
   "outputs": [],
   "source": [
    "def display_precision_recall(y_, oof_preds_, folds_idx_):\n",
    "    # Plot ROC curves\n",
    "    plt.figure(figsize=(6, 6))\n",
    "\n",
    "    scores = []\n",
    "    for n_fold, (_, val_idx) in enumerate(folds_idx_):\n",
    "        # Plot the roc curve\n",
    "        fpr, tpr, thresholds = roc_curve(y_.iloc[val_idx], oof_preds_[val_idx])\n",
    "        score = average_precision_score(y_.iloc[val_idx], oof_preds_[val_idx])\n",
    "        scores.append(score)\n",
    "        plt.plot(fpr, tpr, lw=1, alpha=0.3,label='AP fold %d (AUC = %0.4f)' % (n_fold + 1, score))\n",
    "\n",
    "    precision, recall, thresholds = precision_recall_curve(y_, oof_preds_)\n",
    "    score = average_precision_score(y_, oof_preds_)\n",
    "    plt.plot(precision, recall, color='b', \n",
    "             label='Avg ROC (AUC = %0.4f $\\pm$ %0.4f)' % (score, np.std(scores)), lw=2, alpha=.8)\n",
    "\n",
    "    plt.xlim([-0.05, 1.05])\n",
    "    plt.ylim([-0.05, 1.05])\n",
    "    plt.xlabel('Recall')\n",
    "    plt.ylabel('Precision')\n",
    "    plt.title('LightGBM Recall / Precision')\n",
    "    plt.legend(loc=\"best\")\n",
    "    plt.tight_layout()\n",
    "\n",
    "    plt.savefig('recall_precision_curve-01.png')"
   ]
  },
  {
   "cell_type": "code",
   "execution_count": 33,
   "metadata": {
    "_cell_guid": "79c7e3d0-c299-4dcb-8224-4455121ee9b0",
    "_uuid": "d629ff2d2480ee46fbb7e2d37f6b5fab8052498a",
    "scrolled": true
   },
   "outputs": [
    {
     "name": "stdout",
     "output_type": "stream",
     "text": [
      "Shapes :  (307511, 380) (48744, 381) (307511, 1) (307511, 1)\n"
     ]
    },
    {
     "name": "stderr",
     "output_type": "stream",
     "text": [
      "C:\\Program Files (x86)\\Microsoft Visual Studio\\Shared\\Anaconda3_64\\lib\\site-packages\\sklearn\\preprocessing\\label.py:219: DataConversionWarning: A column-vector y was passed when a 1d array was expected. Please change the shape of y to (n_samples, ), for example using ravel().\n",
      "  y = column_or_1d(y, warn=True)\n",
      "C:\\Program Files (x86)\\Microsoft Visual Studio\\Shared\\Anaconda3_64\\lib\\site-packages\\sklearn\\preprocessing\\label.py:252: DataConversionWarning: A column-vector y was passed when a 1d array was expected. Please change the shape of y to (n_samples, ), for example using ravel().\n",
      "  y = column_or_1d(y, warn=True)\n"
     ]
    },
    {
     "name": "stdout",
     "output_type": "stream",
     "text": [
      "Training until validation scores don't improve for 100 rounds.\n",
      "[100]\ttraining's binary_logloss: 0.240724\ttraining's auc: 0.782792\tvalid_1's binary_logloss: 0.24601\tvalid_1's auc: 0.7636\n",
      "[200]\ttraining's binary_logloss: 0.231756\ttraining's auc: 0.804278\tvalid_1's binary_logloss: 0.241362\tvalid_1's auc: 0.775064\n",
      "[300]\ttraining's binary_logloss: 0.226364\ttraining's auc: 0.817779\tvalid_1's binary_logloss: 0.239861\tvalid_1's auc: 0.779072\n",
      "[400]\ttraining's binary_logloss: 0.222104\ttraining's auc: 0.828676\tvalid_1's binary_logloss: 0.239086\tvalid_1's auc: 0.781321\n",
      "[500]\ttraining's binary_logloss: 0.218469\ttraining's auc: 0.83778\tvalid_1's binary_logloss: 0.238682\tvalid_1's auc: 0.782572\n",
      "[600]\ttraining's binary_logloss: 0.215028\ttraining's auc: 0.846512\tvalid_1's binary_logloss: 0.238486\tvalid_1's auc: 0.783087\n",
      "[700]\ttraining's binary_logloss: 0.211859\ttraining's auc: 0.854156\tvalid_1's binary_logloss: 0.238349\tvalid_1's auc: 0.783454\n",
      "[800]\ttraining's binary_logloss: 0.20888\ttraining's auc: 0.861169\tvalid_1's binary_logloss: 0.238261\tvalid_1's auc: 0.783689\n",
      "[900]\ttraining's binary_logloss: 0.20596\ttraining's auc: 0.868014\tvalid_1's binary_logloss: 0.238243\tvalid_1's auc: 0.783848\n",
      "Early stopping, best iteration is:\n",
      "[834]\ttraining's binary_logloss: 0.207847\ttraining's auc: 0.863635\tvalid_1's binary_logloss: 0.238212\tvalid_1's auc: 0.783889\n",
      "Fold  1 AUC : 0.783889\n"
     ]
    },
    {
     "name": "stderr",
     "output_type": "stream",
     "text": [
      "C:\\Program Files (x86)\\Microsoft Visual Studio\\Shared\\Anaconda3_64\\lib\\site-packages\\sklearn\\preprocessing\\label.py:219: DataConversionWarning: A column-vector y was passed when a 1d array was expected. Please change the shape of y to (n_samples, ), for example using ravel().\n",
      "  y = column_or_1d(y, warn=True)\n",
      "C:\\Program Files (x86)\\Microsoft Visual Studio\\Shared\\Anaconda3_64\\lib\\site-packages\\sklearn\\preprocessing\\label.py:252: DataConversionWarning: A column-vector y was passed when a 1d array was expected. Please change the shape of y to (n_samples, ), for example using ravel().\n",
      "  y = column_or_1d(y, warn=True)\n"
     ]
    },
    {
     "name": "stdout",
     "output_type": "stream",
     "text": [
      "Training until validation scores don't improve for 100 rounds.\n",
      "[100]\ttraining's binary_logloss: 0.240624\ttraining's auc: 0.782689\tvalid_1's binary_logloss: 0.2466\tvalid_1's auc: 0.76116\n",
      "[200]\ttraining's binary_logloss: 0.231639\ttraining's auc: 0.804353\tvalid_1's binary_logloss: 0.241863\tvalid_1's auc: 0.77344\n",
      "[300]\ttraining's binary_logloss: 0.226157\ttraining's auc: 0.818032\tvalid_1's binary_logloss: 0.240297\tvalid_1's auc: 0.777886\n",
      "[400]\ttraining's binary_logloss: 0.22174\ttraining's auc: 0.829292\tvalid_1's binary_logloss: 0.239694\tvalid_1's auc: 0.779502\n",
      "[500]\ttraining's binary_logloss: 0.217937\ttraining's auc: 0.838916\tvalid_1's binary_logloss: 0.239351\tvalid_1's auc: 0.780334\n",
      "[600]\ttraining's binary_logloss: 0.214583\ttraining's auc: 0.847301\tvalid_1's binary_logloss: 0.239348\tvalid_1's auc: 0.780253\n",
      "Early stopping, best iteration is:\n",
      "[574]\ttraining's binary_logloss: 0.21543\ttraining's auc: 0.845218\tvalid_1's binary_logloss: 0.239302\tvalid_1's auc: 0.780451\n",
      "Fold  2 AUC : 0.780451\n"
     ]
    },
    {
     "name": "stderr",
     "output_type": "stream",
     "text": [
      "C:\\Program Files (x86)\\Microsoft Visual Studio\\Shared\\Anaconda3_64\\lib\\site-packages\\sklearn\\preprocessing\\label.py:219: DataConversionWarning: A column-vector y was passed when a 1d array was expected. Please change the shape of y to (n_samples, ), for example using ravel().\n",
      "  y = column_or_1d(y, warn=True)\n",
      "C:\\Program Files (x86)\\Microsoft Visual Studio\\Shared\\Anaconda3_64\\lib\\site-packages\\sklearn\\preprocessing\\label.py:252: DataConversionWarning: A column-vector y was passed when a 1d array was expected. Please change the shape of y to (n_samples, ), for example using ravel().\n",
      "  y = column_or_1d(y, warn=True)\n"
     ]
    },
    {
     "name": "stdout",
     "output_type": "stream",
     "text": [
      "Training until validation scores don't improve for 100 rounds.\n",
      "[100]\ttraining's binary_logloss: 0.240832\ttraining's auc: 0.782249\tvalid_1's binary_logloss: 0.245691\tvalid_1's auc: 0.764165\n",
      "[200]\ttraining's binary_logloss: 0.232226\ttraining's auc: 0.802954\tvalid_1's binary_logloss: 0.240735\tvalid_1's auc: 0.77706\n",
      "[300]\ttraining's binary_logloss: 0.226929\ttraining's auc: 0.816545\tvalid_1's binary_logloss: 0.238835\tvalid_1's auc: 0.782194\n",
      "[400]\ttraining's binary_logloss: 0.222753\ttraining's auc: 0.827407\tvalid_1's binary_logloss: 0.237756\tvalid_1's auc: 0.785191\n",
      "[500]\ttraining's binary_logloss: 0.219279\ttraining's auc: 0.836324\tvalid_1's binary_logloss: 0.237236\tvalid_1's auc: 0.786591\n",
      "[600]\ttraining's binary_logloss: 0.215892\ttraining's auc: 0.844983\tvalid_1's binary_logloss: 0.23693\tvalid_1's auc: 0.787385\n",
      "[700]\ttraining's binary_logloss: 0.212665\ttraining's auc: 0.85288\tvalid_1's binary_logloss: 0.236745\tvalid_1's auc: 0.78794\n",
      "[800]\ttraining's binary_logloss: 0.209832\ttraining's auc: 0.859615\tvalid_1's binary_logloss: 0.236642\tvalid_1's auc: 0.788137\n",
      "[900]\ttraining's binary_logloss: 0.206712\ttraining's auc: 0.866928\tvalid_1's binary_logloss: 0.2366\tvalid_1's auc: 0.788227\n",
      "[1000]\ttraining's binary_logloss: 0.203859\ttraining's auc: 0.873296\tvalid_1's binary_logloss: 0.236599\tvalid_1's auc: 0.788284\n",
      "Early stopping, best iteration is:\n",
      "[918]\ttraining's binary_logloss: 0.206242\ttraining's auc: 0.868015\tvalid_1's binary_logloss: 0.236591\tvalid_1's auc: 0.788247\n",
      "Fold  3 AUC : 0.788247\n"
     ]
    },
    {
     "name": "stderr",
     "output_type": "stream",
     "text": [
      "C:\\Program Files (x86)\\Microsoft Visual Studio\\Shared\\Anaconda3_64\\lib\\site-packages\\sklearn\\preprocessing\\label.py:219: DataConversionWarning: A column-vector y was passed when a 1d array was expected. Please change the shape of y to (n_samples, ), for example using ravel().\n",
      "  y = column_or_1d(y, warn=True)\n",
      "C:\\Program Files (x86)\\Microsoft Visual Studio\\Shared\\Anaconda3_64\\lib\\site-packages\\sklearn\\preprocessing\\label.py:252: DataConversionWarning: A column-vector y was passed when a 1d array was expected. Please change the shape of y to (n_samples, ), for example using ravel().\n",
      "  y = column_or_1d(y, warn=True)\n"
     ]
    },
    {
     "name": "stdout",
     "output_type": "stream",
     "text": [
      "Training until validation scores don't improve for 100 rounds.\n",
      "[100]\ttraining's binary_logloss: 0.240392\ttraining's auc: 0.78354\tvalid_1's binary_logloss: 0.247374\tvalid_1's auc: 0.758824\n",
      "[200]\ttraining's binary_logloss: 0.231439\ttraining's auc: 0.805312\tvalid_1's binary_logloss: 0.242919\tvalid_1's auc: 0.770301\n",
      "[300]\ttraining's binary_logloss: 0.226054\ttraining's auc: 0.818744\tvalid_1's binary_logloss: 0.241391\tvalid_1's auc: 0.774523\n",
      "[400]\ttraining's binary_logloss: 0.221849\ttraining's auc: 0.829285\tvalid_1's binary_logloss: 0.240748\tvalid_1's auc: 0.77627\n",
      "[500]\ttraining's binary_logloss: 0.21825\ttraining's auc: 0.838441\tvalid_1's binary_logloss: 0.240415\tvalid_1's auc: 0.777055\n",
      "[600]\ttraining's binary_logloss: 0.214799\ttraining's auc: 0.846921\tvalid_1's binary_logloss: 0.240226\tvalid_1's auc: 0.777498\n",
      "[700]\ttraining's binary_logloss: 0.211647\ttraining's auc: 0.854564\tvalid_1's binary_logloss: 0.240124\tvalid_1's auc: 0.77784\n",
      "[800]\ttraining's binary_logloss: 0.20863\ttraining's auc: 0.861701\tvalid_1's binary_logloss: 0.24004\tvalid_1's auc: 0.778101\n",
      "[900]\ttraining's binary_logloss: 0.205747\ttraining's auc: 0.868453\tvalid_1's binary_logloss: 0.240052\tvalid_1's auc: 0.778095\n",
      "Early stopping, best iteration is:\n",
      "[807]\ttraining's binary_logloss: 0.208448\ttraining's auc: 0.86211\tvalid_1's binary_logloss: 0.240026\tvalid_1's auc: 0.778138\n",
      "Fold  4 AUC : 0.778138\n"
     ]
    },
    {
     "name": "stderr",
     "output_type": "stream",
     "text": [
      "C:\\Program Files (x86)\\Microsoft Visual Studio\\Shared\\Anaconda3_64\\lib\\site-packages\\sklearn\\preprocessing\\label.py:219: DataConversionWarning: A column-vector y was passed when a 1d array was expected. Please change the shape of y to (n_samples, ), for example using ravel().\n",
      "  y = column_or_1d(y, warn=True)\n",
      "C:\\Program Files (x86)\\Microsoft Visual Studio\\Shared\\Anaconda3_64\\lib\\site-packages\\sklearn\\preprocessing\\label.py:252: DataConversionWarning: A column-vector y was passed when a 1d array was expected. Please change the shape of y to (n_samples, ), for example using ravel().\n",
      "  y = column_or_1d(y, warn=True)\n"
     ]
    },
    {
     "name": "stdout",
     "output_type": "stream",
     "text": [
      "Training until validation scores don't improve for 100 rounds.\n",
      "[100]\ttraining's binary_logloss: 0.241135\ttraining's auc: 0.781407\tvalid_1's binary_logloss: 0.244608\tvalid_1's auc: 0.768551\n",
      "[200]\ttraining's binary_logloss: 0.232187\ttraining's auc: 0.803322\tvalid_1's binary_logloss: 0.239838\tvalid_1's auc: 0.779493\n",
      "[300]\ttraining's binary_logloss: 0.226711\ttraining's auc: 0.817057\tvalid_1's binary_logloss: 0.238203\tvalid_1's auc: 0.7835\n",
      "[400]\ttraining's binary_logloss: 0.222529\ttraining's auc: 0.827837\tvalid_1's binary_logloss: 0.237493\tvalid_1's auc: 0.785313\n",
      "[500]\ttraining's binary_logloss: 0.218777\ttraining's auc: 0.837338\tvalid_1's binary_logloss: 0.237088\tvalid_1's auc: 0.786291\n",
      "[600]\ttraining's binary_logloss: 0.215469\ttraining's auc: 0.845585\tvalid_1's binary_logloss: 0.236809\tvalid_1's auc: 0.787119\n",
      "[700]\ttraining's binary_logloss: 0.212385\ttraining's auc: 0.853075\tvalid_1's binary_logloss: 0.236721\tvalid_1's auc: 0.787302\n",
      "[800]\ttraining's binary_logloss: 0.209456\ttraining's auc: 0.860088\tvalid_1's binary_logloss: 0.236661\tvalid_1's auc: 0.787413\n",
      "[900]\ttraining's binary_logloss: 0.20667\ttraining's auc: 0.866584\tvalid_1's binary_logloss: 0.236639\tvalid_1's auc: 0.787583\n",
      "[1000]\ttraining's binary_logloss: 0.203914\ttraining's auc: 0.872782\tvalid_1's binary_logloss: 0.236677\tvalid_1's auc: 0.787475\n",
      "Early stopping, best iteration is:\n",
      "[904]\ttraining's binary_logloss: 0.206578\ttraining's auc: 0.866773\tvalid_1's binary_logloss: 0.236631\tvalid_1's auc: 0.787618\n",
      "Fold  5 AUC : 0.787618\n",
      "Full AUC score 0.783673\n"
     ]
    },
    {
     "name": "stderr",
     "output_type": "stream",
     "text": [
      "C:\\Program Files (x86)\\Microsoft Visual Studio\\Shared\\Anaconda3_64\\lib\\site-packages\\scipy\\stats\\stats.py:1713: FutureWarning: Using a non-tuple sequence for multidimensional indexing is deprecated; use `arr[tuple(seq)]` instead of `arr[seq]`. In the future this will be interpreted as an array index, `arr[np.array(seq)]`, which will result either in an error or a different result.\n",
      "  return np.add.reduce(sorted[indexer] * weights, axis=axis) / sumval\n"
     ]
    }
   ],
   "source": [
    "if __name__ == '__main__':\n",
    "    gc.enable()\n",
    "    # Build model inputs\n",
    "    data, test, y, ids = build_model_input()\n",
    "    # Create Folds\n",
    "    folds = StratifiedKFold(n_splits=5, shuffle=True, random_state=1001)\n",
    "    # Train model and get oof and test predictions\n",
    "    oof_preds, df_oof_preds, test_preds, importances, score = train_model(data, test, y, folds)\n",
    "    # Save test predictions\n",
    "    now = datetime.now()\n",
    "    score = str(round(score, 6)).replace('.', '')\n",
    "    sub_file = 'submission_average-LGB.csv'\n",
    "    test_preds.to_csv(sub_file, index=False)\n",
    "    oof_file = 'train_LGB.csv'\n",
    "    df_oof_preds.to_csv(oof_file, index=False)\n",
    "    # Display a few graphs\n",
    "    folds_idx = [(trn_idx, val_idx)\n",
    "                 for trn_idx, val_idx in folds.split(data, y)]\n",
    "    display_importances(feature_importance_df_=importances)\n",
    "    display_roc_curve(y_=y, oof_preds_=oof_preds, folds_idx_=folds_idx)\n",
    "    display_precision_recall(y_=y, oof_preds_=oof_preds, folds_idx_=folds_idx)"
   ]
  },
  {
   "cell_type": "code",
   "execution_count": 9,
   "metadata": {
    "_uuid": "a99518f59cd370fd87215a7e79c91b6c4051cb0d",
    "collapsed": true
   },
   "outputs": [],
   "source": [
    "roc_arr = []\n",
    "for n_fold, (_, val_idx) in enumerate(folds_idx):\n",
    "    # Plot the roc curve\n",
    "    fpr, tpr, thresholds = roc_curve(y.iloc[val_idx], oof_preds[val_idx])\n",
    "    score = roc_auc_score(y.iloc[val_idx], oof_preds[val_idx])\n",
    "    roc_arr.append(score)\n",
    "        "
   ]
  },
  {
   "cell_type": "code",
   "execution_count": 10,
   "metadata": {
    "_uuid": "537a1c8acacb0bc594289693fcb9283832302650",
    "scrolled": true
   },
   "outputs": [
    {
     "data": {
      "text/plain": [
       "[0.7832825854418263,\n",
       " 0.7809480948239104,\n",
       " 0.7879534405019654,\n",
       " 0.7781764674564283,\n",
       " 0.7870822948142525]"
      ]
     },
     "execution_count": 10,
     "metadata": {},
     "output_type": "execute_result"
    }
   ],
   "source": [
    "roc_arr"
   ]
  },
  {
   "cell_type": "code",
   "execution_count": null,
   "metadata": {
    "_uuid": "0106ff0bdb3a28a9d978cee4715f1cdf2eb6ec05",
    "collapsed": true
   },
   "outputs": [],
   "source": []
  }
 ],
 "metadata": {
  "kernelspec": {
   "display_name": "Python 3",
   "language": "python",
   "name": "python3"
  },
  "language_info": {
   "codemirror_mode": {
    "name": "ipython",
    "version": 3
   },
   "file_extension": ".py",
   "mimetype": "text/x-python",
   "name": "python",
   "nbconvert_exporter": "python",
   "pygments_lexer": "ipython3",
   "version": "3.6.2"
  }
 },
 "nbformat": 4,
 "nbformat_minor": 1
}
